{
 "cells": [
  {
   "cell_type": "markdown",
   "id": "a749e6be-fccb-4cb4-bac8-3307e5d6f51b",
   "metadata": {},
   "source": [
    "## Tuple"
   ]
  },
  {
   "cell_type": "raw",
   "id": "ceebb757-0631-4af3-a83c-f7d58736d960",
   "metadata": {},
   "source": [
    "A tuple in Python is a collection data type that is ordered, immutable, and allows duplicate values. It is similar to a list but with the key difference that it cannot be modified (immutable). Tuples are typically used to store a fixed sequence of items."
   ]
  },
  {
   "cell_type": "markdown",
   "id": "8eaeb7da-a6ed-4e0c-8653-f3aea82780d3",
   "metadata": {},
   "source": [
    "### Characteristics of Tuple"
   ]
  },
  {
   "cell_type": "raw",
   "id": "69c2a9ba-da87-4f71-9b05-149a9f802f31",
   "metadata": {},
   "source": [
    "1.Ordered: The items in a tuple have a defined order, and that order will not change.\n",
    "2.Immutable: Once a tuple is created, you cannot add, change, or remove its elements.\n",
    "3.Indexed: Each element in a tuple has an index, starting from 0.\n",
    "4.Allow Duplicate Values: Tuples can have elements with the same value.\n",
    "5.Parentheses Syntax: Tuples are created by placing the elements inside parentheses ()"
   ]
  },
  {
   "cell_type": "markdown",
   "id": "89dd203d-71ad-43cc-a100-fd5f08892f6a",
   "metadata": {},
   "source": [
    "### Tuple Creation"
   ]
  },
  {
   "cell_type": "code",
   "execution_count": 10,
   "id": "53ef484c-ed3a-40c1-834a-f3a2f6bea3c9",
   "metadata": {},
   "outputs": [
    {
     "name": "stdout",
     "output_type": "stream",
     "text": [
      "(100, 10, 50, 25)\n",
      "<class 'tuple'>\n",
      "<class 'int'> 10\n",
      "<class 'tuple'> (20, 30)\n"
     ]
    }
   ],
   "source": [
    "my_tuple = (100, 10, 50, 25)\n",
    "print(my_tuple)\n",
    "print(type(my_tuple))\n",
    "\n",
    "# difference between int & tuple\n",
    "nums = (10)\n",
    "nums2 = 20, 30\n",
    "print(type(nums), nums)\n",
    "print(type(nums2), nums2)\n"
   ]
  },
  {
   "cell_type": "code",
   "execution_count": 18,
   "id": "ce62668a-4638-4865-b542-b57a5ddc1bd8",
   "metadata": {},
   "outputs": [
    {
     "name": "stdout",
     "output_type": "stream",
     "text": [
      "Saksham <class 'str'>\n",
      "('Sakasham', 'Piyush') <class 'tuple'>\n"
     ]
    }
   ],
   "source": [
    "student = (\"Saksham\")\n",
    "students = \"Sakasham\", \"Piyush\"\n",
    "print(student, type(student))\n",
    "print(students, type(students))"
   ]
  },
  {
   "cell_type": "code",
   "execution_count": 19,
   "id": "6c4bdac3-0d41-4016-a3f0-b066c3f04170",
   "metadata": {},
   "outputs": [
    {
     "name": "stdout",
     "output_type": "stream",
     "text": [
      "(10, 50, 25, 17) <class 'tuple'>\n",
      "(100,) <class 'tuple'>\n",
      "() <class 'tuple'>\n"
     ]
    }
   ],
   "source": [
    "# create a tuple with multiple element\n",
    "nums = (10, 50, 25, 17)\n",
    "print(nums, type(nums))\n",
    "\n",
    "# create a tuple with single element\n",
    "single_element_tuple = (100,)\n",
    "print(single_element_tuple, type(single_element_tuple))\n",
    "\n",
    "#create a blank tuple\n",
    "blank_tuple = ()\n",
    "print(blank_tuple, type(blank_tuple))\n"
   ]
  },
  {
   "cell_type": "markdown",
   "id": "8d1bed18-c9ce-4f88-b5a2-3500291cd9bf",
   "metadata": {},
   "source": [
    "#### Accessing the elements of tuple"
   ]
  },
  {
   "cell_type": "code",
   "execution_count": 23,
   "id": "a14b4f94-123b-470b-b1c7-f456842f7461",
   "metadata": {},
   "outputs": [
    {
     "name": "stdout",
     "output_type": "stream",
     "text": [
      "(7,)\n",
      "20\n"
     ]
    }
   ],
   "source": [
    "# we can access elements of tuple by their index\n",
    "my_tuple = 10, 5, (7,), 15, 20\n",
    "print(my_tuple[2]) # print (7,) as tuple\n",
    "print(my_tuple[4]) # print 20 as int"
   ]
  },
  {
   "cell_type": "markdown",
   "id": "c5f1a348-4602-43b0-ba4e-8830920bd99c",
   "metadata": {},
   "source": [
    "#### Slicing a tuple"
   ]
  },
  {
   "cell_type": "code",
   "execution_count": 33,
   "id": "e48b0b06-0e70-45e3-87ba-3f466743bc24",
   "metadata": {},
   "outputs": [
    {
     "name": "stdout",
     "output_type": "stream",
     "text": [
      "(10, 5, 7)\n",
      "(1, 3, 5, 7, 9) 2397214494448\n",
      "(1, 2, 3, 4, 5, 6, 7, 8, 9, 10) 2397214463168\n",
      "(1, 2, 3, 4, 5, 6, 7, 8, 9, 10) 2397214463168\n"
     ]
    }
   ],
   "source": [
    "my_tuple = 10, 5, 7, 15, 20\n",
    "print(my_tuple[0:3])\n",
    "\n",
    "nums = 1, 2, 3, 4, 5, 6, 7, 8, 9, 10\n",
    "# print odd numbers from nums\n",
    "copy_tuple = nums\n",
    "sliced_tuple  = nums[0:9:2]\n",
    "print(sliced_tuple, id(sliced_tuple))\n",
    "print(nums, id(nums))\n",
    "print(copy_tuple, id(copy_tuple))"
   ]
  },
  {
   "cell_type": "code",
   "execution_count": 36,
   "id": "0ef8bb2c-4597-494d-a181-7091a6afb0d0",
   "metadata": {},
   "outputs": [
    {
     "name": "stdout",
     "output_type": "stream",
     "text": [
      "(10, 20, 30, 40, 50, 60, 70)\n",
      "('hello', 'world', 'hello', 'world', 'hello', 'world') ('hello', 'world')\n"
     ]
    }
   ],
   "source": [
    "# Concatenating & repeating tuple\n",
    "tuple_1 = 10, 20, 30\n",
    "tuple_2 = 40, 50, 60, 70\n",
    "tuple_3 = tuple_1 + tuple_2\n",
    "print(tuple_3)\n",
    "\n",
    "my_tuple = 'hello', 'world'\n",
    "repeated_tuple = my_tuple*3\n",
    "print(repeated_tuple, my_tuple)"
   ]
  },
  {
   "cell_type": "code",
   "execution_count": 42,
   "id": "cf35ff85-822d-4f77-abd2-4a7165a2e3b8",
   "metadata": {},
   "outputs": [
    {
     "name": "stdout",
     "output_type": "stream",
     "text": [
      "5\n",
      "True\n",
      "False\n"
     ]
    }
   ],
   "source": [
    "# Length of tuple\n",
    "my_tuple = 'hello', 'world', 'this', 'is', 'python'\n",
    "print(len(my_tuple))\n",
    "\n",
    "# Membership of tuple by the use of 'in' operator => we check if an element is present inside tuple or not\n",
    "my_tuple = 'hello', 'world', 'this', 'is', 'python'\n",
    "print('world' in my_tuple) # print True\n",
    "print('java' in my_tuple) # print False"
   ]
  },
  {
   "cell_type": "code",
   "execution_count": 48,
   "id": "ada15bfb-8b77-416b-ac63-e7c134e73e55",
   "metadata": {},
   "outputs": [
    {
     "name": "stdout",
     "output_type": "stream",
     "text": [
      "3\n",
      "2\n",
      "8\n",
      "5\n"
     ]
    }
   ],
   "source": [
    "# built in methods for tuples\n",
    "\n",
    "# count => will count element occurences inside a tuple\n",
    "my_tuple = (1, 3, 1, 5, 1, 10, 12, 5, 6, 10, 10, 12, 20)\n",
    "print(my_tuple.count(1))\n",
    "print(my_tuple.count(12))\n",
    "\n",
    "# index => will tell about the position or index of first occurence of an element inside a tuple\n",
    "my_tuple = (1, 3, 1, 5, 1, 10, 12, 5, 6, 10, 10, 12, 20)\n",
    "print(my_tuple.index(6))\n",
    "print(my_tuple.index(10))"
   ]
  },
  {
   "cell_type": "markdown",
   "id": "0e56db55-b279-4b01-baa5-5ea4e34d9f52",
   "metadata": {},
   "source": [
    "### Use Cases of Tuples"
   ]
  },
  {
   "cell_type": "code",
   "execution_count": 50,
   "id": "3b87f87f-cc39-4e62-8ac9-59ae64ea0a9c",
   "metadata": {},
   "outputs": [],
   "source": [
    "# Storing Fixed Data: Since tuples are immutable, they are often used for fixed data that should not change,\n",
    "# like storing the dimensions of a rectangle or coordinates in a 2D space.\n",
    "\n",
    "dimensions = (20, 40, 60)  # width, height, depth"
   ]
  },
  {
   "cell_type": "code",
   "execution_count": 51,
   "id": "8e812602-1c30-44f7-8ed8-2a4fb7230387",
   "metadata": {},
   "outputs": [
    {
     "name": "stdout",
     "output_type": "stream",
     "text": [
      "10 20\n"
     ]
    }
   ],
   "source": [
    "# Returning Multiple Values from a Function: Tuples are frequently used to return multiple values from a function, \n",
    "# which can be unpacked easily.\n",
    "\n",
    "def get_coordinates():\n",
    "    return (10, 20)\n",
    "\n",
    "x, y = get_coordinates()\n",
    "print(x, y)  # Output: 10 20"
   ]
  },
  {
   "cell_type": "code",
   "execution_count": 54,
   "id": "449736b5-2dde-472c-abc7-6f7018a70190",
   "metadata": {},
   "outputs": [
    {
     "name": "stdout",
     "output_type": "stream",
     "text": [
      "point A\n",
      "point B\n"
     ]
    }
   ],
   "source": [
    "# Using Tuples as Dictionary Keys: Since tuples are immutable, they can be used as keys in dictionaries, unlike lists.\n",
    "\n",
    "my_dict = { (1, 2): \"point A\", (3, 4): \"point B\" }\n",
    "print(my_dict[(1, 2)])  # Output: point A\n",
    "print(my_dict[(3, 4)]) # Output: point B\n",
    "\n",
    "# Efficient for Storing Data: Since tuples have a smaller memory footprint compared to lists (due to immutability),\n",
    "# they can be used when memory efficiency is important\n"
   ]
  },
  {
   "cell_type": "markdown",
   "id": "29b8cd2d-4541-4abd-a69e-87ef45ac2ac6",
   "metadata": {},
   "source": [
    "### Summary of Tuple"
   ]
  },
  {
   "cell_type": "raw",
   "id": "2cbdc4ae-2b65-48da-979c-901a6ddd8123",
   "metadata": {},
   "source": [
    "1.Tuples are ordered, immutable, and allow duplicates.\n",
    "2.You can access, slice, and manipulate tuples using indexing, but they cannot be changed after creation.\n",
    "3.Use cases include storing fixed data, returning multiple values, and using them as dictionary keys."
   ]
  }
 ],
 "metadata": {
  "kernelspec": {
   "display_name": "Python 3 (ipykernel)",
   "language": "python",
   "name": "python3"
  },
  "language_info": {
   "codemirror_mode": {
    "name": "ipython",
    "version": 3
   },
   "file_extension": ".py",
   "mimetype": "text/x-python",
   "name": "python",
   "nbconvert_exporter": "python",
   "pygments_lexer": "ipython3",
   "version": "3.12.4"
  }
 },
 "nbformat": 4,
 "nbformat_minor": 5
}
