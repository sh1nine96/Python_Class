{
 "cells": [
  {
   "cell_type": "markdown",
   "id": "f4484d0b-2a64-43f4-b09c-18146a8b1ae6",
   "metadata": {},
   "source": [
    "## Variables"
   ]
  },
  {
   "cell_type": "markdown",
   "id": "85d50a43-7b08-4c0a-b4d8-a5db1cbaa114",
   "metadata": {},
   "source": [
    "Variables are containers that store data in any programming language. In Python, variables are dynamically typed, \n",
    "meaning you don’t need to declare their type explicitly."
   ]
  },
  {
   "cell_type": "code",
   "execution_count": 1,
   "id": "00c3250f-9281-4cd7-8a56-fa10a316534a",
   "metadata": {},
   "outputs": [
    {
     "name": "stdout",
     "output_type": "stream",
     "text": [
      "<class 'int'>\n"
     ]
    }
   ],
   "source": [
    "num = 10 # it will store an integer inside num\n",
    "print(type(num))"
   ]
  },
  {
   "cell_type": "code",
   "execution_count": 2,
   "id": "bb7bd247-975e-4eaf-ada3-12e06065d863",
   "metadata": {},
   "outputs": [
    {
     "name": "stdout",
     "output_type": "stream",
     "text": [
      "<class 'str'>\n"
     ]
    }
   ],
   "source": [
    "num = 'number' #it will store string inside num\n",
    "print(type(num))"
   ]
  },
  {
   "cell_type": "code",
   "execution_count": 3,
   "id": "5eae399f-ff6f-407f-a5eb-6580957092bd",
   "metadata": {},
   "outputs": [
    {
     "name": "stdout",
     "output_type": "stream",
     "text": [
      "<class 'float'>\n"
     ]
    }
   ],
   "source": [
    "num = 10.667  #it will store float inside num\n",
    "print(type(num))"
   ]
  },
  {
   "cell_type": "code",
   "execution_count": 5,
   "id": "09315b44-c69d-4986-afcd-95b13314db26",
   "metadata": {},
   "outputs": [
    {
     "name": "stdout",
     "output_type": "stream",
     "text": [
      "<class 'bool'>\n"
     ]
    }
   ],
   "source": [
    "is_num = True\n",
    "print(type(num))"
   ]
  },
  {
   "cell_type": "markdown",
   "id": "d0705290-3cac-48ba-9419-299da9c5451f",
   "metadata": {},
   "source": [
    "### Rules for creating Variables"
   ]
  },
  {
   "cell_type": "markdown",
   "id": "efe75b74-f207-4749-ba79-b27f01306248",
   "metadata": {},
   "source": [
    "1. A Variable must start from a letter/alphabet or underscore(_)"
   ]
  },
  {
   "cell_type": "code",
   "execution_count": null,
   "id": "0b129708-ad1d-4ccd-a557-c7816b78597c",
   "metadata": {},
   "outputs": [],
   "source": [
    "#These will not have any error\n",
    "first_name = 'Saksham'\n",
    "_name = 'Aditya'"
   ]
  },
  {
   "cell_type": "code",
   "execution_count": null,
   "id": "9d8fd455-8cd3-4881-b664-de9a6dd46103",
   "metadata": {},
   "outputs": [],
   "source": [
    "# These will have error\n",
    "# $name = 'Currency'\n",
    "# 9name = 'Piyush'"
   ]
  },
  {
   "cell_type": "markdown",
   "id": "5c9e0140-7c35-4c36-9749-285b42c5fe38",
   "metadata": {},
   "source": [
    "2. A Variable must contain alphanumeric letters or underscore (_)"
   ]
  },
  {
   "cell_type": "code",
   "execution_count": 7,
   "id": "e6d19792-d327-4f91-bec4-31f0fbb7c2dc",
   "metadata": {},
   "outputs": [
    {
     "name": "stdout",
     "output_type": "stream",
     "text": [
      "Saksham Aditya 987\n"
     ]
    }
   ],
   "source": [
    "#These will not have any error\n",
    "first3name = 'Saksham'\n",
    "_name1 = 'Aditya'\n",
    "num1 = 987\n",
    "print(first3name, _name1, num1)"
   ]
  },
  {
   "cell_type": "code",
   "execution_count": null,
   "id": "73bf711b-f77b-493c-8310-a883cd793afa",
   "metadata": {},
   "outputs": [],
   "source": [
    "#These will have an error\n",
    "# first-name = 'Saksham'\n",
    "# _name$ = 'Aditya'\n",
    "# num* = 'NUMERICAL'"
   ]
  },
  {
   "cell_type": "markdown",
   "id": "a93819f3-ca7d-4b03-98ea-0b2856b44a97",
   "metadata": {},
   "source": [
    "3. Variables are case sensitive"
   ]
  },
  {
   "cell_type": "code",
   "execution_count": 9,
   "id": "4c32ac10-8daf-4247-88fc-f409e7ce3a10",
   "metadata": {},
   "outputs": [
    {
     "name": "stdout",
     "output_type": "stream",
     "text": [
      "10 20 30 40 50 60 70\n"
     ]
    }
   ],
   "source": [
    "num = 10\n",
    "Num = 20\n",
    "nUm = 30\n",
    "nuM = 40\n",
    "NUM = 50\n",
    "NUm = 60\n",
    "NuM = 70\n",
    "print(num, Num, nUm, nuM, NUM, NUm, NuM)"
   ]
  },
  {
   "cell_type": "code",
   "execution_count": null,
   "id": "9352a138-a369-4710-92fa-c547add2b3cd",
   "metadata": {},
   "outputs": [],
   "source": [
    "num1 = 24\n",
    "num1 = 25\n",
    "print(num1, num1, num1, num1)"
   ]
  },
  {
   "cell_type": "markdown",
   "id": "a9f36de9-c4be-4cec-bcb7-51dada7568d0",
   "metadata": {},
   "source": [
    "4. Variables can't be same as python keywords or functions name"
   ]
  },
  {
   "cell_type": "code",
   "execution_count": 10,
   "id": "65c023fb-0451-4546-94f0-6eeec79f82cc",
   "metadata": {},
   "outputs": [],
   "source": [
    "# if = 'hello'"
   ]
  },
  {
   "cell_type": "code",
   "execution_count": 1,
   "id": "bc3306f7-b01c-47be-afef-00baf3bbdb67",
   "metadata": {},
   "outputs": [
    {
     "name": "stdout",
     "output_type": "stream",
     "text": [
      "Hello world\n"
     ]
    }
   ],
   "source": [
    "# _print = 'Hello world'\n",
    "print(_print)"
   ]
  },
  {
   "cell_type": "code",
   "execution_count": 2,
   "id": "159fe022-ca7d-4e04-8d9c-d46e2b88bfea",
   "metadata": {},
   "outputs": [
    {
     "name": "stdout",
     "output_type": "stream",
     "text": [
      "23\n"
     ]
    }
   ],
   "source": [
    "# _tuple = '23'\n",
    "print(_tuple)"
   ]
  },
  {
   "cell_type": "markdown",
   "id": "4f63fbf2-8d71-4067-bba5-30d6d970cced",
   "metadata": {},
   "source": [
    "5. There is no length limit for creating variables, but we should keep it concise an meaningfull"
   ]
  },
  {
   "cell_type": "code",
   "execution_count": 11,
   "id": "dbb96afb-f0b6-41e4-98a1-846ec84a2274",
   "metadata": {},
   "outputs": [],
   "source": [
    "# Recommended\n",
    "number = 10\n",
    "first_name = 'Saksham'\n",
    "\n",
    "# Not recommended\n",
    "x = 5\n",
    "b1245jbhkfab128t31yiu = 87965544"
   ]
  },
  {
   "cell_type": "markdown",
   "id": "13408e18-a2fd-455b-b4ec-a0136865d8aa",
   "metadata": {},
   "source": [
    "6. Use snake case for creating variables"
   ]
  },
  {
   "cell_type": "code",
   "execution_count": 3,
   "id": "8d534259-87c0-4080-853f-d309982ffaf5",
   "metadata": {},
   "outputs": [
    {
     "name": "stdout",
     "output_type": "stream",
     "text": [
      "Piyush\n",
      "Aditya\n"
     ]
    }
   ],
   "source": [
    "# When multiple words are joined using underscores\n",
    "my_first_name = 'Piyush'\n",
    "print(my_first_name)\n",
    "\n",
    "# What is camel case => when the first letter of each word is in uppercase\n",
    "MyFirstName = 'Aditya'\n",
    "print(MyFirstName)"
   ]
  },
  {
   "cell_type": "code",
   "execution_count": 36,
   "id": "da8ad2f4-55ab-40ad-b452-e9ae8df78486",
   "metadata": {},
   "outputs": [
    {
     "name": "stdout",
     "output_type": "stream",
     "text": [
      "hello\n"
     ]
    }
   ],
   "source": [
    "name = 'hello'\n",
    "print(name)\n"
   ]
  },
  {
   "cell_type": "code",
   "execution_count": 42,
   "id": "66d9e44d-308b-4058-9d55-39be525cac27",
   "metadata": {},
   "outputs": [
    {
     "name": "stdout",
     "output_type": "stream",
     "text": [
      "True\n",
      "True\n",
      "True\n",
      "9 9 9\n"
     ]
    }
   ],
   "source": [
    "a = 9\n",
    "b = a\n",
    "c = a\n",
    "print(a is b)\n",
    "print(b is c)\n",
    "print(a is c)\n",
    "print(a, b, c)"
   ]
  },
  {
   "cell_type": "code",
   "execution_count": 47,
   "id": "2d5fb5b9-31ed-4a33-88e8-fddfc56730b3",
   "metadata": {},
   "outputs": [
    {
     "name": "stdout",
     "output_type": "stream",
     "text": [
      "True\n",
      "False\n",
      "2168003814720 2168003814720 2168003812928\n"
     ]
    }
   ],
   "source": [
    "a = [1, 2, 3, 4]\n",
    "b = a\n",
    "print(a is b)\n",
    "c = [1, 2, 3, 4]\n",
    "print(a is c)\n",
    "\n",
    "print(id(a), id(b), id(c))"
   ]
  },
  {
   "cell_type": "code",
   "execution_count": 48,
   "id": "e2e76874-79be-4b37-bbd2-d6a3725ab242",
   "metadata": {},
   "outputs": [
    {
     "name": "stdin",
     "output_type": "stream",
     "text": [
      "enter your age: 23\n"
     ]
    },
    {
     "name": "stdout",
     "output_type": "stream",
     "text": [
      "next year, you will be 24 years old\n"
     ]
    }
   ],
   "source": [
    "age = int(input('enter your age:'))\n",
    "print('next year, you will be', age + 1, 'years old')"
   ]
  },
  {
   "cell_type": "markdown",
   "id": "e42083d7-3202-4f48-b12a-d4cd91aacf4d",
   "metadata": {},
   "source": [
    "### Multiple Variables Assignment"
   ]
  },
  {
   "cell_type": "code",
   "execution_count": 18,
   "id": "c641b90b-cbfa-4125-af6a-68d084c32344",
   "metadata": {},
   "outputs": [
    {
     "name": "stdout",
     "output_type": "stream",
     "text": [
      "50\n",
      "50 100\n",
      "50 70 100\n"
     ]
    }
   ],
   "source": [
    "# We can create and assign values to multiple variables at a time\n",
    "num1, num2, num3 = 50, 70, 100;\n",
    "print(num1);\n",
    "print(num1, num3);\n",
    "print(num1,num2, num3);"
   ]
  },
  {
   "cell_type": "code",
   "execution_count": 23,
   "id": "17ca37ec-dd66-4762-b05f-0ee10de8cd3f",
   "metadata": {},
   "outputs": [
    {
     "name": "stdout",
     "output_type": "stream",
     "text": [
      "45 Piyush False 23.698\n",
      "<class 'int'> <class 'str'> <class 'bool'> <class 'float'>\n",
      "Num:  45 first_name:  Piyush is_num:  False decimal:  23.698\n"
     ]
    }
   ],
   "source": [
    "num, first_name, is_num, decimal = 45, 'Piyush', False, 23.698\n",
    "print(num, first_name, is_num, decimal)\n",
    "print(type(num), type(first_name), type(is_num), type(decimal))\n",
    "print('Num: ', num, 'first_name: ', first_name, 'is_num: ', is_num, 'decimal: ', decimal)"
   ]
  },
  {
   "cell_type": "code",
   "execution_count": null,
   "id": "5d124d86-3ac5-4f09-8631-f060ba586f2b",
   "metadata": {},
   "outputs": [],
   "source": []
  }
 ],
 "metadata": {
  "kernelspec": {
   "display_name": "Python 3 (ipykernel)",
   "language": "python",
   "name": "python3"
  },
  "language_info": {
   "codemirror_mode": {
    "name": "ipython",
    "version": 3
   },
   "file_extension": ".py",
   "mimetype": "text/x-python",
   "name": "python",
   "nbconvert_exporter": "python",
   "pygments_lexer": "ipython3",
   "version": "3.12.4"
  }
 },
 "nbformat": 4,
 "nbformat_minor": 5
}
