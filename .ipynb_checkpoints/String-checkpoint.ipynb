{
 "cells": [
  {
   "cell_type": "markdown",
   "id": "db008d6a-1d28-4c25-9359-1354a411ddf9",
   "metadata": {},
   "source": [
    "## Strings"
   ]
  },
  {
   "cell_type": "code",
   "execution_count": 2,
   "id": "ba34d8ac-a863-4a6c-8863-ea4f7ce78b68",
   "metadata": {},
   "outputs": [],
   "source": [
    "# Anything that is placed between quotes, be it any type of quotes ''(single quotes), \"\"(double quotes), ''' '''(triple quotes)"
   ]
  },
  {
   "cell_type": "code",
   "execution_count": 8,
   "id": "a1334545-93a4-4057-b1f9-eb42077f2d18",
   "metadata": {},
   "outputs": [
    {
     "name": "stdout",
     "output_type": "stream",
     "text": [
      "<class 'str'>\n"
     ]
    }
   ],
   "source": [
    "#Single Quotes String\n",
    "string = ' '\n",
    "print(type(string))"
   ]
  },
  {
   "cell_type": "code",
   "execution_count": 10,
   "id": "b8520969-1596-48ae-b0c8-afcbff2ec587",
   "metadata": {},
   "outputs": [
    {
     "name": "stdout",
     "output_type": "stream",
     "text": [
      "<class 'str'>\n"
     ]
    }
   ],
   "source": [
    "#Double Quotes String\n",
    "string = \"None\"\n",
    "print(type(string))"
   ]
  },
  {
   "cell_type": "code",
   "execution_count": 13,
   "id": "74119cd0-2c75-420d-907b-a436b0037e7e",
   "metadata": {},
   "outputs": [
    {
     "name": "stdout",
     "output_type": "stream",
     "text": [
      "Lalu\n",
      "Prasad Yadav is an Indian Politician\n",
      "from Bihar\n",
      "<class 'str'>\n"
     ]
    }
   ],
   "source": [
    "#Triple Quotes String => It allows us to have a multi-line string\n",
    "first_name = '''Lalu\n",
    "Prasad Yadav is an Indian Politician\n",
    "from Bihar'''\n",
    "print(first_name)\n",
    "print(type(first_name))"
   ]
  },
  {
   "cell_type": "code",
   "execution_count": 7,
   "id": "d1d4f6d5-9137-4e7a-bca0-6a410a81aef5",
   "metadata": {},
   "outputs": [
    {
     "name": "stdout",
     "output_type": "stream",
     "text": [
      "<class 'str'>\n"
     ]
    }
   ],
   "source": [
    "num = \"23\"\n",
    "print(type(num))"
   ]
  },
  {
   "cell_type": "code",
   "execution_count": 16,
   "id": "9c67978f-0b92-41bf-b305-1e87c4ccfc52",
   "metadata": {},
   "outputs": [
    {
     "name": "stdout",
     "output_type": "stream",
     "text": [
      "He said to me, \"You are a liar\" \n"
     ]
    }
   ],
   "source": [
    "# We can use double quotes inside a single-quoted or triple-quoted string\n",
    "sentence = 'He said to me, \"You are a liar\" '\n",
    "print(sentence)"
   ]
  },
  {
   "cell_type": "raw",
   "id": "c491ee1f-3039-4726-9ba1-d8b7cb1667d8",
   "metadata": {},
   "source": [
    "String only supports concatenation and repetition, it does not support addition, subtraction, division, or multiplication as it does not make any sense of it"
   ]
  },
  {
   "cell_type": "code",
   "execution_count": 23,
   "id": "464a0429-7494-425c-8434-66826148e568",
   "metadata": {},
   "outputs": [
    {
     "name": "stdout",
     "output_type": "stream",
     "text": [
      "Saksham Singh\n"
     ]
    }
   ],
   "source": [
    "#This will concat the 2 different strings \n",
    "first_name = 'Saksham'\n",
    "last_name = 'Singh'\n",
    "print(first_name + ' ' + last_name)"
   ]
  },
  {
   "cell_type": "code",
   "execution_count": 1,
   "id": "b4814855-928c-4b98-aba1-8964accfc4fe",
   "metadata": {},
   "outputs": [
    {
     "name": "stdout",
     "output_type": "stream",
     "text": [
      "22\n"
     ]
    }
   ],
   "source": [
    "# Concatenation of strings\n",
    "x = '2'\n",
    "y = '2'\n",
    "print(x + y)"
   ]
  },
  {
   "cell_type": "code",
   "execution_count": 2,
   "id": "bae1fb28-2ad4-4b85-be26-df277266aa82",
   "metadata": {},
   "outputs": [
    {
     "name": "stdout",
     "output_type": "stream",
     "text": [
      "Aditya Soni Aditya Soni Aditya Soni Aditya Soni Aditya Soni \n"
     ]
    }
   ],
   "source": [
    "# Or we can do the repetition of strings\n",
    "full_name = 'Aditya Soni '\n",
    "print(full_name*5)"
   ]
  },
  {
   "cell_type": "code",
   "execution_count": 3,
   "id": "f976315e-2f59-49eb-b931-3f597556a2f4",
   "metadata": {},
   "outputs": [
    {
     "name": "stdout",
     "output_type": "stream",
     "text": [
      "111\n"
     ]
    }
   ],
   "source": [
    "# repetion of strings\n",
    "x = '1'\n",
    "print(x*3)"
   ]
  },
  {
   "cell_type": "code",
   "execution_count": 8,
   "id": "ccd6ad45-8083-4b1f-a45c-28c10953fb90",
   "metadata": {},
   "outputs": [],
   "source": [
    "# We can't subtract or divide a string to a string, minus (-) and division (/) are not allowed\n",
    "x = '22'\n",
    "y = '2'\n",
    "# print(x - y)\n",
    "# print(x / y)"
   ]
  },
  {
   "cell_type": "code",
   "execution_count": 7,
   "id": "739303f2-6a7b-412e-b55f-78122d1eef97",
   "metadata": {},
   "outputs": [],
   "source": [
    "# This will throw an error because a string can be concatenated to a string only not to a number/Integer\n",
    "# first_name = 'Aditya'\n",
    "# num1 = 50\n",
    "# print(first_name + num1)"
   ]
  },
  {
   "cell_type": "code",
   "execution_count": 13,
   "id": "1f7ab9f7-37f0-4a5d-a5be-75670cbabad1",
   "metadata": {},
   "outputs": [
    {
     "name": "stdout",
     "output_type": "stream",
     "text": [
      "135\n",
      "15\n",
      "-15\n",
      "1.25\n",
      "0.8\n",
      "4500\n",
      "1\n",
      "15\n"
     ]
    }
   ],
   "source": [
    "#Here all operations will happen because variables are numbers/Integers here\n",
    "num1 = 60\n",
    "num2 = 75\n",
    "print(num1 + num2)\n",
    "print(num2 - num1)\n",
    "print(num1 - num2)\n",
    "print(num2 / num1)\n",
    "print(num1 / num2)\n",
    "print(num2 * num1)\n",
    "print(num2 // num1)\n",
    "print(num2 % num1)"
   ]
  },
  {
   "cell_type": "markdown",
   "id": "bf2515f2-d56e-404c-a894-1faf54e9b0e1",
   "metadata": {},
   "source": [
    "### Indexing in String"
   ]
  },
  {
   "cell_type": "code",
   "execution_count": 17,
   "id": "1afbd008-8dc3-47cf-afb8-dcaab5cda62e",
   "metadata": {},
   "outputs": [
    {
     "name": "stdout",
     "output_type": "stream",
     "text": [
      "S\n",
      "a\n",
      "k\n",
      "s\n",
      "h\n",
      "a\n",
      "m\n"
     ]
    }
   ],
   "source": [
    "#We can do indexing in String because they are a sequence of characters\n",
    "\n",
    "\n",
    "# 1. Positive Index => Starts from 0 to n-1\n",
    "first_name = 'Saksham'\n",
    "# Find the letter at the first position or Oth indexing in first_name\n",
    "print(first_name[0]) # 0\n",
    "print(first_name[1])\n",
    "print(first_name[2])\n",
    "print(first_name[3])\n",
    "print(first_name[4])\n",
    "print(first_name[5])\n",
    "print(first_name[6]) # n - 1\n",
    "# print(first_name[7]) This will throw an error as string index out of range "
   ]
  },
  {
   "cell_type": "code",
   "execution_count": 21,
   "id": "853119e2-42f2-4138-aa12-7cd6bd361dd7",
   "metadata": {},
   "outputs": [
    {
     "name": "stdout",
     "output_type": "stream",
     "text": [
      "h s u y i\n",
      "P\n"
     ]
    }
   ],
   "source": [
    "# Negative Sequencing => It indexes from the right side to life from -1 to -n\n",
    "student_name = 'Piyush'\n",
    "print(student_name[-1], student_name[-2], student_name[-3], student_name[-4], student_name[-5])\n",
    "print(student_name[-6])\n",
    "# print(student_name[-7]) This will throw an error because our range is from -1 to -6(-n) only"
   ]
  },
  {
   "cell_type": "markdown",
   "id": "8337d3d3-18ed-4f9e-9281-9e6cd1f3206a",
   "metadata": {},
   "source": [
    "### Slicing a String"
   ]
  },
  {
   "cell_type": "raw",
   "id": "725d2ff9-ab31-4b27-9baf-a03daffa7245",
   "metadata": {},
   "source": [
    "We can extract or slice out a part of the string. And a part of the string is known as substring.\n",
    "The syntax of slicing is => string[start, end, step]"
   ]
  },
  {
   "cell_type": "code",
   "execution_count": 34,
   "id": "064a6fb7-37b0-49e1-9793-633f41e6c572",
   "metadata": {},
   "outputs": [
    {
     "name": "stdout",
     "output_type": "stream",
     "text": [
      "1234\n",
      "13579\n"
     ]
    }
   ],
   "source": [
    "str1 = '123456789101112131415'\n",
    "# extract '1234' out of this string\n",
    "substr = str1[0: 4: 1]\n",
    "print(substr)\n",
    "\n",
    "# Extract only the 13579 as a substring\n",
    "small_str = str1[0: 10: 2]\n",
    "print(small_str)"
   ]
  },
  {
   "cell_type": "code",
   "execution_count": 41,
   "id": "9c505ecb-276b-4f9a-aa50-8f4ef73b5148",
   "metadata": {},
   "outputs": [
    {
     "name": "stdout",
     "output_type": "stream",
     "text": [
      "funny\n",
      "egaugnal\n",
      "language\n",
      "anguage\n"
     ]
    }
   ],
   "source": [
    "x = 'Python is a funny language'\n",
    "print(x[12: 17: 1])\n",
    "\n",
    "print(x[-1: -9: -1])\n",
    "\n",
    "print(x[-8: 27: 1])\n",
    "\n",
    "print(x[19: 27: 1])\n",
    "\n"
   ]
  },
  {
   "cell_type": "code",
   "execution_count": 46,
   "id": "1c7d671c-82ea-4b0c-99f6-fc3a642e6553",
   "metadata": {},
   "outputs": [
    {
     "name": "stdout",
     "output_type": "stream",
     "text": [
      "letter and nothing else\n"
     ]
    }
   ],
   "source": [
    "y = 'This is just a letter and nothing else'\n",
    "\n",
    "# Extract out anything that is present from the letter in this string y\n",
    "print(y[15: :1])"
   ]
  },
  {
   "cell_type": "code",
   "execution_count": 53,
   "id": "3dd6a716-251f-46dc-b872-21fcd71acf51",
   "metadata": {},
   "outputs": [
    {
     "name": "stdout",
     "output_type": "stream",
     "text": [
      "Hello\n",
      "World\n",
      "World!\n",
      "Hlo ol!\n"
     ]
    }
   ],
   "source": [
    "z = 'Hello, World!'\n",
    "\n",
    "#extract out hello from z without mention of the start index\n",
    "\n",
    "print(z[:5])\n",
    "\n",
    "# Extract out World from z\n",
    "print(z[7:12])\n",
    "\n",
    "# extract everything starting from w\n",
    "print(z[7:])\n",
    "\n",
    "# extract every second character\n",
    "print(z[ : : 2])"
   ]
  },
  {
   "cell_type": "markdown",
   "id": "8f82eb24-ae59-4514-9089-e300dc19ea4f",
   "metadata": {},
   "source": [
    "### Length of String"
   ]
  },
  {
   "cell_type": "code",
   "execution_count": 5,
   "id": "f59fad25-ff8e-48f1-85ef-73219ba03c27",
   "metadata": {},
   "outputs": [
    {
     "name": "stdout",
     "output_type": "stream",
     "text": [
      "Length of student is: 13\n",
      "Length of teacher is: 10\n"
     ]
    }
   ],
   "source": [
    "# len() => It is a function to calculate the length of a string\n",
    "student = 'Priyadarshini'\n",
    "teacher = 'Ram Prasad'\n",
    "\n",
    "# Calculate the length of student\n",
    "print('Length of student is:',len(student))\n",
    "print('Length of teacher is:', len(teacher))"
   ]
  },
  {
   "cell_type": "markdown",
   "id": "467a0919-2fac-49d4-bea1-1c4473622b48",
   "metadata": {},
   "source": [
    "#### Out of Range Indexing"
   ]
  },
  {
   "cell_type": "code",
   "execution_count": 11,
   "id": "41e58510-d794-4aad-a850-92886219d845",
   "metadata": {},
   "outputs": [
    {
     "name": "stdout",
     "output_type": "stream",
     "text": [
      "h i\n"
     ]
    }
   ],
   "source": [
    "# It happens when you are trying to find an index of a string that does not exist\n",
    "student = 'Priyadarshini'\n",
    "# It's indexing will start from 0 to n-1 (12)\n",
    "print(student[9], student[12])\n",
    "\n",
    "# let's suppose if we try to locate an index after 12\n",
    "# print(student[13])\n",
    "\n",
    "# This will throw an error(Index Out of Range) because our Indices Range is from 0 to 12"
   ]
  }
 ],
 "metadata": {
  "kernelspec": {
   "display_name": "Python 3 (ipykernel)",
   "language": "python",
   "name": "python3"
  },
  "language_info": {
   "codemirror_mode": {
    "name": "ipython",
    "version": 3
   },
   "file_extension": ".py",
   "mimetype": "text/x-python",
   "name": "python",
   "nbconvert_exporter": "python",
   "pygments_lexer": "ipython3",
   "version": "3.12.4"
  }
 },
 "nbformat": 4,
 "nbformat_minor": 5
}
