{
 "cells": [
  {
   "cell_type": "markdown",
   "id": "661d70bc-4dbc-4be6-86cf-fe8068980953",
   "metadata": {},
   "source": [
    "### Inputs"
   ]
  },
  {
   "cell_type": "code",
   "execution_count": 2,
   "id": "ce8b5aa2-d2cd-4f19-adb0-cf394fc1cc93",
   "metadata": {},
   "outputs": [
    {
     "name": "stdin",
     "output_type": "stream",
     "text": [
      "Enter you name: shubham\n"
     ]
    }
   ],
   "source": [
    "# they help in allowing a user to give input from their end\n",
    "string = input(\"Enter you name:\")"
   ]
  },
  {
   "cell_type": "code",
   "execution_count": 4,
   "id": "0605107a-a57b-43fb-9433-352163fdf38a",
   "metadata": {},
   "outputs": [
    {
     "name": "stdin",
     "output_type": "stream",
     "text": [
      "enter your age: 18\n"
     ]
    }
   ],
   "source": [
    "# if you want integer output\n",
    "integer = int(input('enter your age:'))"
   ]
  },
  {
   "cell_type": "code",
   "execution_count": 6,
   "id": "9f5bfe36-00f7-4e9f-a6dc-0e0d37dfe5a6",
   "metadata": {},
   "outputs": [
    {
     "name": "stdin",
     "output_type": "stream",
     "text": [
      "enter the decimal number:  5.254\n"
     ]
    }
   ],
   "source": [
    "# if you want float output\n",
    "f = float(input('enter the decimal number: '))"
   ]
  }
 ],
 "metadata": {
  "kernelspec": {
   "display_name": "Python 3 (ipykernel)",
   "language": "python",
   "name": "python3"
  },
  "language_info": {
   "codemirror_mode": {
    "name": "ipython",
    "version": 3
   },
   "file_extension": ".py",
   "mimetype": "text/x-python",
   "name": "python",
   "nbconvert_exporter": "python",
   "pygments_lexer": "ipython3",
   "version": "3.12.4"
  }
 },
 "nbformat": 4,
 "nbformat_minor": 5
}
