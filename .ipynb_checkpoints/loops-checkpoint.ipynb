{
 "cells": [
  {
   "cell_type": "markdown",
   "id": "ea7e6cae-155c-4e21-ad6d-5c0b6a4e54b1",
   "metadata": {},
   "source": [
    "## Loops in Python"
   ]
  },
  {
   "cell_type": "raw",
   "id": "30672992-61a5-4035-a5a5-517db3bcb134",
   "metadata": {},
   "source": [
    "Loops in python are code of blocks that executes repeatedly until some specific condition is met. Pyhton have 2 types of loops"
   ]
  },
  {
   "cell_type": "markdown",
   "id": "30f995be-578a-4e79-9548-439b15136afc",
   "metadata": {},
   "source": [
    "#### For Loop: It iterates over a sequence (List, String, Tuple)"
   ]
  },
  {
   "cell_type": "markdown",
   "id": "c12eb9cb-fb91-4272-ad1b-25b0d6a6982a",
   "metadata": {},
   "source": [
    "#### While Loop: it repeats itself until some specific condition is met"
   ]
  },
  {
   "cell_type": "raw",
   "id": "f3f596eb-d674-47d6-9573-1536c81d05e1",
   "metadata": {},
   "source": [
    "1. For Loop\n",
    "SYNTAX \n",
    "\n",
    "for variable in sequence:\n",
    "    #code block to be executed"
   ]
  },
  {
   "cell_type": "code",
   "execution_count": 1,
   "id": "60b44746-ba09-4508-b49e-f651f53ab00b",
   "metadata": {},
   "outputs": [
    {
     "name": "stdout",
     "output_type": "stream",
     "text": [
      "s\n",
      "a\n",
      "k\n",
      "s\n",
      "h\n",
      "a\n",
      "m\n"
     ]
    }
   ],
   "source": [
    "student = 'saksham'\n",
    "for char in student:\n",
    "    print(char)"
   ]
  },
  {
   "cell_type": "code",
   "execution_count": 2,
   "id": "ac44165d-d4fa-44b0-abf0-ace9bdef48da",
   "metadata": {},
   "outputs": [
    {
     "name": "stdout",
     "output_type": "stream",
     "text": [
      "1\n",
      "2\n",
      "3\n",
      "4\n",
      "5\n"
     ]
    }
   ],
   "source": [
    "# Using range()\n",
    "# range syntax => range(start, end, step)  => it generates until end - 1\n",
    "\n",
    "#print number 1 to 5\n",
    "for num in range(1, 6):\n",
    "    print(num)"
   ]
  },
  {
   "cell_type": "code",
   "execution_count": 3,
   "id": "2776746a-c24e-47b1-955e-182ef787ad17",
   "metadata": {},
   "outputs": [
    {
     "name": "stdout",
     "output_type": "stream",
     "text": [
      "1\n",
      "3\n",
      "5\n",
      "7\n",
      "9\n",
      "11\n"
     ]
    }
   ],
   "source": [
    "# print only odd numbers from 1 to 11\n",
    "for num in range(1, 12, 2):\n",
    "    print(num)"
   ]
  },
  {
   "cell_type": "code",
   "execution_count": 4,
   "id": "b71683b5-3b3e-4c4b-b0aa-b2db225e265c",
   "metadata": {},
   "outputs": [
    {
     "name": "stdout",
     "output_type": "stream",
     "text": [
      "4\n",
      "8\n",
      "12\n",
      "16\n",
      "20\n",
      "24\n",
      "28\n",
      "32\n",
      "36\n",
      "40\n"
     ]
    }
   ],
   "source": [
    "# print 4 ka table using range\n",
    "num = 4\n",
    "for i in range(1, 11):\n",
    "    print(num * i)"
   ]
  },
  {
   "cell_type": "raw",
   "id": "78c8d9c1-3f17-4138-a880-1588e46e5f1a",
   "metadata": {},
   "source": [
    "2. While Loop => it is repeated until some specific conditions stands true\n",
    "\n",
    "SYNTAX:\n",
    "while condition:\n",
    "    #code block to be executed"
   ]
  },
  {
   "cell_type": "code",
   "execution_count": 5,
   "id": "512bd68c-6a0e-485a-84a4-d0e14bde1128",
   "metadata": {},
   "outputs": [
    {
     "name": "stdout",
     "output_type": "stream",
     "text": [
      "5\n",
      "4\n",
      "3\n",
      "2\n",
      "1\n"
     ]
    }
   ],
   "source": [
    "# start countdown from 5 to 1\n",
    "\n",
    "num = 5\n",
    "while num > 0:\n",
    "    print(num)\n",
    "    num = num -1"
   ]
  },
  {
   "cell_type": "code",
   "execution_count": 6,
   "id": "0366eccf-d762-43bf-81b7-e3cfe08155a4",
   "metadata": {},
   "outputs": [
    {
     "name": "stdout",
     "output_type": "stream",
     "text": [
      "1\n",
      "3\n",
      "5\n",
      "7\n",
      "9\n",
      "11\n"
     ]
    }
   ],
   "source": [
    "# print numbers from 1 to 11 using while loop (only odd numbers)\n",
    "\n",
    "num = 1\n",
    "while num < 12:\n",
    "    print(num)\n",
    "    num = num + 2"
   ]
  },
  {
   "cell_type": "code",
   "execution_count": 7,
   "id": "e3a7e3a4-2ad0-4ee0-9649-85225703c574",
   "metadata": {},
   "outputs": [
    {
     "name": "stdout",
     "output_type": "stream",
     "text": [
      "1\n",
      "4\n",
      "9\n",
      "16\n",
      "25\n",
      "36\n",
      "49\n",
      "64\n",
      "81\n",
      "100\n"
     ]
    }
   ],
   "source": [
    "# Print squares of numbers from 1 to 10\n",
    "for num in range(1, 11):\n",
    "    print(num*num)"
   ]
  },
  {
   "cell_type": "code",
   "execution_count": 8,
   "id": "f18c0a77-e9af-4b8e-a545-08281f1e9a8e",
   "metadata": {},
   "outputs": [
    {
     "name": "stdout",
     "output_type": "stream",
     "text": [
      "2\n",
      "4\n",
      "6\n",
      "8\n",
      "10\n",
      "12\n",
      "14\n",
      "16\n",
      "18\n",
      "20\n",
      "22\n",
      "24\n",
      "26\n",
      "28\n",
      "30\n",
      "32\n",
      "34\n",
      "36\n",
      "38\n",
      "40\n",
      "42\n",
      "44\n",
      "46\n",
      "48\n",
      "50\n"
     ]
    }
   ],
   "source": [
    "# print all even numbers from 1 to 50\n",
    "for num in range(2, 51, 2):\n",
    "    print(num)"
   ]
  },
  {
   "cell_type": "code",
   "execution_count": 9,
   "id": "6f11e0d9-1aa7-4ed5-8d60-f04e43c8ebfb",
   "metadata": {},
   "outputs": [
    {
     "name": "stdout",
     "output_type": "stream",
     "text": [
      "P\n",
      "Y\n",
      "T\n",
      "H\n",
      "O\n",
      "N\n"
     ]
    }
   ],
   "source": [
    "# print each letter from 'PYTHON' to new line\n",
    "word = \"PYTHON\"\n",
    "for i in word:\n",
    "    print(i)"
   ]
  },
  {
   "cell_type": "code",
   "execution_count": 10,
   "id": "a132bf09-0548-44c8-960e-830ea2df46fa",
   "metadata": {},
   "outputs": [
    {
     "name": "stdout",
     "output_type": "stream",
     "text": [
      "2\n",
      "5\n",
      "8\n",
      "3\n",
      "10\n"
     ]
    }
   ],
   "source": [
    "# print each element from list [2,5,8,3,10]\n",
    "list1 = [2,5,8,3,10]\n",
    "for i in list1:\n",
    "    print(i)"
   ]
  },
  {
   "cell_type": "code",
   "execution_count": 11,
   "id": "f62cf3ad-ef0e-4020-a5ba-0370e620a8b7",
   "metadata": {},
   "outputs": [
    {
     "name": "stdout",
     "output_type": "stream",
     "text": [
      "5050\n"
     ]
    }
   ],
   "source": [
    "# calculate sum of numbers from 1 to 100\n",
    "total = 0\n",
    "for i in range(1, 101):\n",
    "    total = total + i\n",
    "print(total)"
   ]
  },
  {
   "cell_type": "code",
   "execution_count": 12,
   "id": "c816f7d4-4d04-4416-bf54-8868c103533d",
   "metadata": {},
   "outputs": [
    {
     "name": "stdout",
     "output_type": "stream",
     "text": [
      "7\n",
      "14\n",
      "21\n",
      "28\n",
      "35\n",
      "42\n",
      "49\n",
      "56\n",
      "63\n",
      "70\n"
     ]
    }
   ],
   "source": [
    "#print multiplication table of 7\n",
    "i = 7\n",
    "for num in range(1, 11):\n",
    "    print(i*num)"
   ]
  },
  {
   "cell_type": "code",
   "execution_count": 13,
   "id": "e7457549-2b2f-452f-adce-3e61ae02dc10",
   "metadata": {},
   "outputs": [
    {
     "name": "stdout",
     "output_type": "stream",
     "text": [
      "15\n",
      "30\n",
      "45\n"
     ]
    }
   ],
   "source": [
    "# print all numbers between 1 to 50 (divisible by both 3 and 5)\n",
    "for num in range(1, 51):\n",
    "    if num%3 == 0 and num%5 == 0:\n",
    "        print(num)"
   ]
  },
  {
   "cell_type": "code",
   "execution_count": 14,
   "id": "84c833b3-4d53-4024-ad9d-2a7b321bc4f5",
   "metadata": {},
   "outputs": [
    {
     "name": "stdout",
     "output_type": "stream",
     "text": [
      "120\n"
     ]
    }
   ],
   "source": [
    "# find the factorial of a number n = 5 using for loop\n",
    "fact = 1\n",
    "for i in range(1, 6):\n",
    "    fact = fact*i\n",
    "print(fact)"
   ]
  },
  {
   "cell_type": "code",
   "execution_count": 15,
   "id": "63359d57-32a5-498c-89aa-e47e62880090",
   "metadata": {},
   "outputs": [
    {
     "name": "stdout",
     "output_type": "stream",
     "text": [
      "a\n",
      "a\n",
      "i\n",
      "e\n",
      "e\n"
     ]
    }
   ],
   "source": [
    "# print only vowel from s = 'Data Science'\n",
    "s = 'Data Science'\n",
    "for char in s:\n",
    "    if char == 'a' or char == 'e' or char == 'i' or char == 'o' or char == 'u':\n",
    "        print(char)"
   ]
  },
  {
   "cell_type": "code",
   "execution_count": 16,
   "id": "c1705406-ad3b-4713-a735-c6e141046c79",
   "metadata": {},
   "outputs": [
    {
     "name": "stdout",
     "output_type": "stream",
     "text": [
      "1\n",
      "2\n",
      "3\n",
      "4\n",
      "5\n",
      "6\n",
      "7\n",
      "8\n",
      "9\n",
      "10\n"
     ]
    }
   ],
   "source": [
    "# print 1 to 10 using while loop\n",
    "num = 1\n",
    "while num <= 10:\n",
    "    print(num)\n",
    "    num += 1"
   ]
  },
  {
   "cell_type": "code",
   "execution_count": 17,
   "id": "2fd3aec3-21d8-4069-b7de-5309c9531575",
   "metadata": {},
   "outputs": [
    {
     "name": "stdout",
     "output_type": "stream",
     "text": [
      "10\n",
      "9\n",
      "8\n",
      "7\n",
      "6\n",
      "5\n",
      "4\n",
      "3\n",
      "2\n",
      "1\n"
     ]
    }
   ],
   "source": [
    "# print countdown from 10 to 1\n",
    "num = 10\n",
    "while num > 0:\n",
    "    print(num)\n",
    "    num -= 1"
   ]
  },
  {
   "cell_type": "code",
   "execution_count": 19,
   "id": "142f2bc8-43ce-429c-a0cc-98653755a39a",
   "metadata": {},
   "outputs": [
    {
     "name": "stdout",
     "output_type": "stream",
     "text": [
      "19\n"
     ]
    }
   ],
   "source": [
    "#calculate the sum of digits of a num = 4562\n",
    "num = 45622\n",
    "total = 0\n",
    "while num > 0:\n",
    "    total = total + num % 10\n",
    "    num = num//10\n",
    "print(total)    "
   ]
  },
  {
   "cell_type": "code",
   "execution_count": 14,
   "id": "23c6d14f-2a37-4435-9f3f-8c4c1d2c1d8f",
   "metadata": {},
   "outputs": [
    {
     "name": "stdout",
     "output_type": "stream",
     "text": [
      "0\n",
      "1\n",
      "2\n"
     ]
    }
   ],
   "source": [
    "# Loop with break statement\n",
    "#break => it will break the loop immediately\n",
    "for i in range(5):\n",
    "    if i == 3:\n",
    "        break\n",
    "    print(i)    "
   ]
  },
  {
   "cell_type": "code",
   "execution_count": 6,
   "id": "feb0e4eb-885f-4c2c-8154-bdb626190f9a",
   "metadata": {},
   "outputs": [
    {
     "name": "stdout",
     "output_type": "stream",
     "text": [
      "0\n",
      "1\n",
      "2\n",
      "3\n",
      "4\n"
     ]
    }
   ],
   "source": [
    "#infinite loop with break statement\n",
    "count = 0\n",
    "while True: #infinite loop\n",
    "    print(count)\n",
    "    count = count + 1\n",
    "    if count == 5:\n",
    "        break # it will break loop here"
   ]
  },
  {
   "cell_type": "code",
   "execution_count": 24,
   "id": "6a04ec0b-054a-42c1-9cf2-288e20dddc0c",
   "metadata": {},
   "outputs": [
    {
     "name": "stdout",
     "output_type": "stream",
     "text": [
      "0\n",
      "1\n",
      "2\n",
      "3\n",
      "4\n",
      "5\n",
      "6\n",
      "7\n",
      "8\n",
      "9\n"
     ]
    }
   ],
   "source": [
    "# Control Statements => break, continue, pass\n",
    "#continue\n",
    "for i in range(10):\n",
    "    if i == 3:\n",
    "        print(i)\n",
    "        continue\n",
    "    print(i)  "
   ]
  },
  {
   "cell_type": "code",
   "execution_count": 25,
   "id": "3557f8ff-e4d4-4506-9ac3-ddba133f62d2",
   "metadata": {},
   "outputs": [
    {
     "name": "stdout",
     "output_type": "stream",
     "text": [
      "0\n",
      "1\n",
      "2\n",
      "3\n",
      "3\n",
      "4\n",
      "5\n",
      "6\n",
      "7\n",
      "8\n",
      "9\n"
     ]
    }
   ],
   "source": [
    "# pass => it also does nothing but it is just used as a placeholder only\n",
    "for i in range(10):\n",
    "    if i == 3:\n",
    "        print(i)\n",
    "        pass # does nothing but used for future\n",
    "    print(i)  "
   ]
  },
  {
   "cell_type": "code",
   "execution_count": 35,
   "id": "b88ca448-9220-4cd2-85cc-ee23c7b408ae",
   "metadata": {},
   "outputs": [
    {
     "name": "stdout",
     "output_type": "stream",
     "text": [
      "1\n",
      "2\n",
      "3\n",
      "4\n",
      "5\n",
      "6\n",
      "7\n",
      "8\n",
      "9\n",
      "10\n",
      "11\n"
     ]
    }
   ],
   "source": [
    "n = 12\n",
    "for i in range(1, n):\n",
    "    print(i)"
   ]
  },
  {
   "cell_type": "code",
   "execution_count": 36,
   "id": "8aabb09d-ae77-4e87-91ac-5b00665da853",
   "metadata": {},
   "outputs": [
    {
     "name": "stdout",
     "output_type": "stream",
     "text": [
      "0 0\n",
      "0 1\n",
      "1 0\n",
      "1 1\n",
      "2 0\n",
      "2 1\n"
     ]
    }
   ],
   "source": [
    "#Nested Loop\n",
    "for i in range(3):\n",
    "    for j in range(2):\n",
    "        print(i, j)"
   ]
  },
  {
   "cell_type": "code",
   "execution_count": 38,
   "id": "958a1e92-216d-40e8-a910-f032a23e8e80",
   "metadata": {},
   "outputs": [
    {
     "name": "stdout",
     "output_type": "stream",
     "text": [
      "0 0\n",
      "0 1\n"
     ]
    }
   ],
   "source": [
    "# Nested while loop\n",
    "i = 0\n",
    "j = 0\n",
    "while i < 3:\n",
    "    while j < 2:\n",
    "        print(i, j)\n",
    "        j = j + 1\n",
    "    i = i + 1    "
   ]
  },
  {
   "cell_type": "code",
   "execution_count": 39,
   "id": "201b83a2-58b8-4826-b141-2e7d1dd4452c",
   "metadata": {},
   "outputs": [
    {
     "name": "stdout",
     "output_type": "stream",
     "text": [
      "0 0\n",
      "0 1\n",
      "1 0\n",
      "1 1\n",
      "2 0\n",
      "2 1\n"
     ]
    }
   ],
   "source": [
    "i = 0\n",
    "while i < 3:\n",
    "    j = 0\n",
    "    while j < 2:\n",
    "        print(i, j)\n",
    "        j = j + 1\n",
    "    i = i + 1 "
   ]
  },
  {
   "cell_type": "code",
   "execution_count": 40,
   "id": "356819d7-b0c8-4d79-aeb4-43dc0cdb906c",
   "metadata": {},
   "outputs": [
    {
     "name": "stdout",
     "output_type": "stream",
     "text": [
      "0\n",
      "1\n",
      "2\n",
      "3\n",
      "4\n",
      "5\n",
      "loop is completed\n"
     ]
    }
   ],
   "source": [
    "# else clause with loops\n",
    "# else with loops\n",
    "\n",
    "for i in range(6):\n",
    "    print(i)\n",
    "else:\n",
    "    print('loop is completed')"
   ]
  },
  {
   "cell_type": "code",
   "execution_count": 43,
   "id": "fc67bf4d-64b6-4f3f-b566-ee55bbbec31d",
   "metadata": {},
   "outputs": [
    {
     "name": "stdout",
     "output_type": "stream",
     "text": [
      "19\n"
     ]
    }
   ],
   "source": [
    "#else with while loop\n",
    "# find the sum of digits of the num given\n",
    "num = 45622\n",
    "total = 0\n",
    "while num > 0:\n",
    "    total = total + num % 10\n",
    "    num = num//10\n",
    "else:    \n",
    "    print(total)"
   ]
  },
  {
   "cell_type": "code",
   "execution_count": 44,
   "id": "40f22daa-dabe-49e2-ba38-82c1d8a6e14a",
   "metadata": {},
   "outputs": [
    {
     "name": "stdout",
     "output_type": "stream",
     "text": [
      "5\n",
      "4\n",
      "3\n",
      "2\n",
      "1\n",
      "Countdown finished!\n"
     ]
    }
   ],
   "source": [
    "# countdown 5 to 1\n",
    "num = 5\n",
    "while num > 0:\n",
    "    print(num)\n",
    "    num -= 1\n",
    "else:\n",
    "    print(\"Countdown finished!\")"
   ]
  },
  {
   "cell_type": "code",
   "execution_count": 48,
   "id": "33c0e19f-6b64-4ae4-9ac3-7c6e097e2ae7",
   "metadata": {},
   "outputs": [
    {
     "name": "stdout",
     "output_type": "stream",
     "text": [
      "0\n",
      "1\n",
      "2\n"
     ]
    }
   ],
   "source": [
    "# if we apply else after the break then else does not work\n",
    "\n",
    "for i in range(6):\n",
    "    if i == 3:\n",
    "        break\n",
    "    print(i)\n",
    "else:\n",
    "    print('Loop is over')\n",
    "    \n"
   ]
  },
  {
   "cell_type": "markdown",
   "id": "b198c1cc-8542-4bb6-9de9-3515918f53b9",
   "metadata": {},
   "source": [
    "### Points to remember"
   ]
  },
  {
   "cell_type": "raw",
   "id": "8cb77912-56ba-4717-a248-78e9d42af3c3",
   "metadata": {},
   "source": [
    "# 1. Indentation is crucial:\n",
    "\n",
    "    # Loops in Python rely on proper indentation to define blocks.\n",
    "\n",
    "for i in range(3):\n",
    "print(i)  # IndentationError\n",
    "\n",
    "\n",
    "# 2.Avoid Infinite Loops:\n",
    "\n",
    "    # Ensure while loops have a condition that eventually becomes False.\n",
    "    \n",
    "    \n",
    "# 3.Use range() for Numeric Loops:\n",
    "\n",
    "    # Efficient and versatile for numeric iterations.\n",
    "    \n",
    "    \n",
    "# 4.Control Statements Modify Flow:\n",
    "\n",
    "    # Use break, continue, and pass judiciously to manage loop behavior.\n"
   ]
  }
 ],
 "metadata": {
  "kernelspec": {
   "display_name": "Python 3 (ipykernel)",
   "language": "python",
   "name": "python3"
  },
  "language_info": {
   "codemirror_mode": {
    "name": "ipython",
    "version": 3
   },
   "file_extension": ".py",
   "mimetype": "text/x-python",
   "name": "python",
   "nbconvert_exporter": "python",
   "pygments_lexer": "ipython3",
   "version": "3.12.4"
  }
 },
 "nbformat": 4,
 "nbformat_minor": 5
}
