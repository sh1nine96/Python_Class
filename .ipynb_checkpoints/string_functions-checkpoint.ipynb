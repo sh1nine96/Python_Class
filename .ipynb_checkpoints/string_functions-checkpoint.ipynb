{
 "cells": [
  {
   "cell_type": "markdown",
   "id": "ec8f5ed8-be54-4459-aa4f-b06cc4129405",
   "metadata": {},
   "source": [
    "## String Methods"
   ]
  },
  {
   "cell_type": "markdown",
   "id": "5758c190-64ae-4a1f-9027-53a7f1d27e7c",
   "metadata": {},
   "source": [
    "#### 1. Capitalize"
   ]
  },
  {
   "cell_type": "code",
   "execution_count": 2,
   "id": "83bd0f3a-7dfc-43c0-aa21-77a5ea73594b",
   "metadata": {},
   "outputs": [
    {
     "name": "stdout",
     "output_type": "stream",
     "text": [
      "I am going to market\n",
      "Saksham singh\n"
     ]
    }
   ],
   "source": [
    "# Capitalize() => It converts only the first letter of a string to uppercase\n",
    "sentence = \"i am going to market\"\n",
    "print(sentence.capitalize())\n",
    "\n",
    "first_name = 'saksham singh'\n",
    "print(first_name.capitalize())"
   ]
  },
  {
   "cell_type": "markdown",
   "id": "6fb84546-6cfe-4680-8e4a-8b11c726722a",
   "metadata": {},
   "source": [
    "#### 2. casefold"
   ]
  },
  {
   "cell_type": "code",
   "execution_count": 8,
   "id": "a5338462-582c-4871-b7cc-1575858246d8",
   "metadata": {},
   "outputs": [
    {
     "name": "stdout",
     "output_type": "stream",
     "text": [
      "piyush\n"
     ]
    }
   ],
   "source": [
    "# casefold() => It converts the given string to lowercase; it is similar to lower() but more aggressive for certain languages\n",
    "first_name = 'PIYUSH'\n",
    "print(first_name.casefold())"
   ]
  },
  {
   "cell_type": "markdown",
   "id": "64bd19aa-bd7d-4ff6-baf9-2a1981011cc5",
   "metadata": {},
   "source": [
    "#### 3. lower()"
   ]
  },
  {
   "cell_type": "code",
   "execution_count": 5,
   "id": "6ad533e7-f30a-4e8c-8f81-3083c6679402",
   "metadata": {},
   "outputs": [
    {
     "name": "stdout",
     "output_type": "stream",
     "text": [
      "rajesh pawar\n"
     ]
    }
   ],
   "source": [
    "# lower() => it also converts the string to lower case\n",
    "student = 'RAJESH Pawar'\n",
    "print(student.lower())"
   ]
  },
  {
   "cell_type": "markdown",
   "id": "afb55d21-c9e9-4a5b-8156-51fc4e91ad4c",
   "metadata": {},
   "source": [
    "#### 4. center()"
   ]
  },
  {
   "cell_type": "code",
   "execution_count": 6,
   "id": "3b21af6c-5a55-4363-8140-6c57a042af1b",
   "metadata": {},
   "outputs": [
    {
     "name": "stdout",
     "output_type": "stream",
     "text": [
      "**Aditya**\n"
     ]
    }
   ],
   "source": [
    "# center(width, [fillchar])\n",
    "# it centers the string within a given width, using an optional fill character\n",
    "\n",
    "student = 'Aditya'\n",
    "# Convert this string like this **Aditya**\n",
    "\n",
    "print(student.center(10, '*'))"
   ]
  },
  {
   "cell_type": "code",
   "execution_count": 10,
   "id": "6d1241ba-5125-44a4-af7c-d9c05e95bdec",
   "metadata": {},
   "outputs": [
    {
     "name": "stdout",
     "output_type": "stream",
     "text": [
      "---This is a note---\n"
     ]
    }
   ],
   "source": [
    "string = 'This is a note'\n",
    "print(string.center(20, '-'))"
   ]
  },
  {
   "cell_type": "code",
   "execution_count": 11,
   "id": "b38acaad-906a-4e09-9541-ab2029a90e27",
   "metadata": {},
   "outputs": [
    {
     "name": "stdout",
     "output_type": "stream",
     "text": [
      "*Saksham**\n"
     ]
    }
   ],
   "source": [
    "student2 = 'Saksham'\n",
    "print(student2.center(10, '*'))"
   ]
  },
  {
   "cell_type": "markdown",
   "id": "0c2c7505-ea90-4530-b137-60566801d1c7",
   "metadata": {},
   "source": [
    "#### 5. count()"
   ]
  },
  {
   "cell_type": "code",
   "execution_count": 18,
   "id": "730f5427-98c6-4f80-a300-7f72af739158",
   "metadata": {},
   "outputs": [
    {
     "name": "stdout",
     "output_type": "stream",
     "text": [
      "3\n"
     ]
    }
   ],
   "source": [
    "# count(substring, [start], [end]) => count the occurences of a substring\n",
    "student = 'Hello this is my student'\n",
    "print(student.count(' ',10, 24))"
   ]
  },
  {
   "cell_type": "code",
   "execution_count": 19,
   "id": "30cbb75c-d208-413d-80b9-cc42f67956d4",
   "metadata": {},
   "outputs": [
    {
     "name": "stdout",
     "output_type": "stream",
     "text": [
      "3\n"
     ]
    }
   ],
   "source": [
    "std = 'Saksham Kumar'\n",
    "print(std.count('a'))"
   ]
  },
  {
   "cell_type": "code",
   "execution_count": 20,
   "id": "c5f8e2b9-699e-4ab0-8fe1-3366a2dc0ec5",
   "metadata": {},
   "outputs": [
    {
     "name": "stdout",
     "output_type": "stream",
     "text": [
      "4\n"
     ]
    }
   ],
   "source": [
    "string = 'Karan ajay Vijay Karan Ritesh Karan Sunil Amit Vijay Prasad Karan'\n",
    "# Find the occurence of Karan in this string\n",
    "print(string.count('Karan'))"
   ]
  },
  {
   "cell_type": "markdown",
   "id": "f3a1bd30-c77a-4940-922a-28323db2b7dc",
   "metadata": {},
   "source": [
    "#### 6. startswith()"
   ]
  },
  {
   "cell_type": "code",
   "execution_count": 7,
   "id": "b9b59f1a-9131-4e1e-ab77-b7e36556d385",
   "metadata": {},
   "outputs": [
    {
     "name": "stdout",
     "output_type": "stream",
     "text": [
      "True\n"
     ]
    }
   ],
   "source": [
    "# Syntax => startswith(prefix, [start], [end])\n",
    "student = 'Piyush'\n",
    "\n",
    "#check if my student starts with 'p'\n",
    "print(student.startswith('P'))"
   ]
  },
  {
   "cell_type": "markdown",
   "id": "1a91d56c-1312-4e10-8858-8d96ab884151",
   "metadata": {},
   "source": [
    "#### 7. endswith()"
   ]
  },
  {
   "cell_type": "code",
   "execution_count": 8,
   "id": "fdeb6c66-b9c7-41af-96a0-320f29ae7cd6",
   "metadata": {},
   "outputs": [
    {
     "name": "stdout",
     "output_type": "stream",
     "text": [
      "True\n",
      "True\n"
     ]
    }
   ],
   "source": [
    "# Syntax => endswith(suffix, [start], [end])\n",
    "student = 'Piyush'\n",
    "\n",
    "#check if my student ends with 'h'\n",
    "print(student.endswith('h'))\n",
    "\n",
    "print(\"Ajay\".endswith('y'))\n"
   ]
  },
  {
   "cell_type": "markdown",
   "id": "a10f3d52-3254-42e5-8eff-9e5e7cb69de9",
   "metadata": {},
   "source": [
    "#### 8. find()"
   ]
  },
  {
   "cell_type": "code",
   "execution_count": 12,
   "id": "5c6e6a5b-cb36-422a-a396-5eddd686f029",
   "metadata": {},
   "outputs": [
    {
     "name": "stdout",
     "output_type": "stream",
     "text": [
      "2\n",
      "10\n",
      "-1\n"
     ]
    }
   ],
   "source": [
    "# find() => it returns the positions of the first occurrence of a substring inside a string & \n",
    "# returns -1 if the substring doesn't exist\n",
    "# SYNTAX => find(substring, [start], [end])\n",
    "student = 'Aditya Soni'\n",
    "\n",
    "# Find the position of 'i' in student variable\n",
    "print(student.find('i'))\n",
    "\n",
    "#find the position of 2nd 'i'\n",
    "print(student.find('i', 3))\n",
    "\n",
    "#Find j in student\n",
    "print(student.find('j'))"
   ]
  },
  {
   "cell_type": "markdown",
   "id": "044c763b-5a48-4301-87d6-522d5155e347",
   "metadata": {},
   "source": [
    "#### 9. Index()"
   ]
  },
  {
   "cell_type": "code",
   "execution_count": 15,
   "id": "47457a9f-3769-466a-82a5-42373cc7605b",
   "metadata": {},
   "outputs": [
    {
     "name": "stdout",
     "output_type": "stream",
     "text": [
      "2\n",
      "10\n"
     ]
    },
    {
     "ename": "ValueError",
     "evalue": "substring not found",
     "output_type": "error",
     "traceback": [
      "\u001b[1;31m----------------------------------------------------\u001b[0m",
      "\u001b[1;31mValueError\u001b[0m         Traceback (most recent call last)",
      "Cell \u001b[1;32mIn[15], line 13\u001b[0m\n\u001b[0;32m     10\u001b[0m \u001b[38;5;28mprint\u001b[39m(student\u001b[38;5;241m.\u001b[39mindex(\u001b[38;5;124m'\u001b[39m\u001b[38;5;124mi\u001b[39m\u001b[38;5;124m'\u001b[39m, \u001b[38;5;241m3\u001b[39m))\n\u001b[0;32m     12\u001b[0m \u001b[38;5;66;03m#Find j in student\u001b[39;00m\n\u001b[1;32m---> 13\u001b[0m \u001b[38;5;28mprint\u001b[39m(\u001b[43mstudent\u001b[49m\u001b[38;5;241;43m.\u001b[39;49m\u001b[43mindex\u001b[49m\u001b[43m(\u001b[49m\u001b[38;5;124;43m'\u001b[39;49m\u001b[38;5;124;43mj\u001b[39;49m\u001b[38;5;124;43m'\u001b[39;49m\u001b[43m)\u001b[49m)\n",
      "\u001b[1;31mValueError\u001b[0m: substring not found"
     ]
    }
   ],
   "source": [
    "# index() => it returns the index of substring inside string & raises error if it is not found\n",
    "# SYNTAX => index(substring, [start], [end])\n",
    "\n",
    "student = 'Aditya Soni'\n",
    "\n",
    "# Find the position of 'i' in student variable\n",
    "print(student.index('i'))\n",
    "\n",
    "#find the position of 2nd 'i'\n",
    "print(student.index('i', 3))\n",
    "\n",
    "#Find j in student\n",
    "print(student.index('j'))"
   ]
  },
  {
   "cell_type": "markdown",
   "id": "1163fcfc-0951-4e0a-8f4b-2df476444617",
   "metadata": {},
   "source": [
    "#### 10. isalnum()"
   ]
  },
  {
   "cell_type": "code",
   "execution_count": 17,
   "id": "6817fa84-214c-45cc-ae3e-af6cdc159640",
   "metadata": {},
   "outputs": [
    {
     "name": "stdout",
     "output_type": "stream",
     "text": [
      "True\n",
      "False\n"
     ]
    }
   ],
   "source": [
    "# isalnum() => check if a string contains only alphabets and numbers, returns TRUE or FALSE\n",
    "username = 'saksham2915'\n",
    "\n",
    "#check if username is alphanumeric or not\n",
    "print(username.isalnum())\n",
    "\n",
    "#check if username is alphanumeric or not\n",
    "email = 'saksham2915@gmail.com'\n",
    "print(email.isalnum())"
   ]
  },
  {
   "cell_type": "markdown",
   "id": "0de1e82f-d529-4670-900d-87013bce5b22",
   "metadata": {},
   "source": [
    "#### 11. isalpha()"
   ]
  },
  {
   "cell_type": "code",
   "execution_count": 19,
   "id": "4b2c37a5-7d9d-48c8-8308-54588f7f4d35",
   "metadata": {},
   "outputs": [
    {
     "name": "stdout",
     "output_type": "stream",
     "text": [
      "False\n",
      "True\n"
     ]
    }
   ],
   "source": [
    "# isalpha() => it will check if a string consists of alphabetic letters or not, returns TRUE or FALSE\n",
    "\n",
    "username = 'saksham2915'\n",
    "\n",
    "#check if username is alphabetic or not\n",
    "print(username.isalpha())\n",
    "\n",
    "first_name = 'Saksham'\n",
    "print(first_name.isalpha())"
   ]
  },
  {
   "cell_type": "markdown",
   "id": "aeaeab88-fe93-4e20-9a1a-6d03bb3131de",
   "metadata": {},
   "source": [
    "#### 12. isdigit()"
   ]
  },
  {
   "cell_type": "code",
   "execution_count": 47,
   "id": "3b712a23-a9c3-43b1-a43b-b55c57b02ea3",
   "metadata": {},
   "outputs": [
    {
     "name": "stdout",
     "output_type": "stream",
     "text": [
      "True\n"
     ]
    }
   ],
   "source": [
    "# isdigit() => checks if a string contains digits or not\n",
    "phone = '9876524310'\n",
    "\n",
    "#check if the phone has only digits or not\n",
    "print(phone.isdigit())"
   ]
  },
  {
   "cell_type": "markdown",
   "id": "175c32c5-febd-41d7-baca-2b2e64d514c7",
   "metadata": {},
   "source": [
    "#### 13. isdecimal()"
   ]
  },
  {
   "cell_type": "code",
   "execution_count": 55,
   "id": "6eb37612-b95c-469e-885f-69f77ce0a70f",
   "metadata": {},
   "outputs": [
    {
     "name": "stdout",
     "output_type": "stream",
     "text": [
      "True\n"
     ]
    }
   ],
   "source": [
    "# isdecimal() => checks if a string contains a decimal or not\n",
    "sale = '10'\n",
    "print(sale.isdecimal())"
   ]
  },
  {
   "cell_type": "markdown",
   "id": "decbe9b6-c535-4b5f-b201-33ede159cf91",
   "metadata": {},
   "source": [
    "#### 14. islower()"
   ]
  },
  {
   "cell_type": "code",
   "execution_count": 57,
   "id": "9cd91367-b03b-40cd-8d07-5f979f238575",
   "metadata": {},
   "outputs": [
    {
     "name": "stdout",
     "output_type": "stream",
     "text": [
      "True\n",
      "False\n"
     ]
    }
   ],
   "source": [
    "# islower() => checks if a string is in lowercase or not\n",
    "\n",
    "first_name = 'saksham'\n",
    "print(first_name.islower())\n",
    "\n",
    "last_name = 'Singh'\n",
    "print(last_name.islower())"
   ]
  },
  {
   "cell_type": "markdown",
   "id": "2bc0b93f-fdd0-423b-a857-9b15262d401b",
   "metadata": {},
   "source": [
    "#### 15. isupper()"
   ]
  },
  {
   "cell_type": "code",
   "execution_count": 58,
   "id": "71f79362-0605-4f0b-9598-20f950dca697",
   "metadata": {},
   "outputs": [
    {
     "name": "stdout",
     "output_type": "stream",
     "text": [
      "False\n",
      "False\n",
      "True\n"
     ]
    }
   ],
   "source": [
    "# isupper() => checks if a string is in uppercase or not\n",
    "\n",
    "first_name = 'saksham'\n",
    "print(first_name.isupper())\n",
    "\n",
    "last_name = 'Singh'\n",
    "print(last_name.isupper())\n",
    "\n",
    "student = 'ADITYA'\n",
    "print(student.isupper())"
   ]
  }
 ],
 "metadata": {
  "kernelspec": {
   "display_name": "Python 3 (ipykernel)",
   "language": "python",
   "name": "python3"
  },
  "language_info": {
   "codemirror_mode": {
    "name": "ipython",
    "version": 3
   },
   "file_extension": ".py",
   "mimetype": "text/x-python",
   "name": "python",
   "nbconvert_exporter": "python",
   "pygments_lexer": "ipython3",
   "version": "3.12.4"
  }
 },
 "nbformat": 4,
 "nbformat_minor": 5
}
