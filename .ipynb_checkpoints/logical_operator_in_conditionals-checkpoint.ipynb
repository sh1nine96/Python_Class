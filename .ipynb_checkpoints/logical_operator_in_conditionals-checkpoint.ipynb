{
 "cells": [
  {
   "cell_type": "markdown",
   "id": "8e6b91e7-ed66-40ae-8602-32fb5d6d94d9",
   "metadata": {},
   "source": [
    "## Using Logical Operators in Conditions"
   ]
  },
  {
   "cell_type": "raw",
   "id": "8bd0fe27-1bd6-4026-91b2-969f554a41c6",
   "metadata": {},
   "source": [
    "Logical Operators(AND, OR, NOT) can be used inside Conditional statements"
   ]
  },
  {
   "cell_type": "code",
   "execution_count": 5,
   "id": "b1ce3fd0-ef23-4668-8665-f9983acf5e80",
   "metadata": {},
   "outputs": [
    {
     "name": "stdout",
     "output_type": "stream",
     "text": [
      "You can't vote\n"
     ]
    }
   ],
   "source": [
    "# Voting rights in India => age => 18+ , nationality => Indian\n",
    "age = 17\n",
    "nationality = 'Indian'\n",
    "\n",
    "if age >= 18 and nationality == 'Indian':\n",
    "    print('You are eligible to vote')\n",
    "else:\n",
    "    print(\"You can't vote\")"
   ]
  },
  {
   "cell_type": "code",
   "execution_count": 18,
   "id": "d6dc9f3b-41cb-4524-9e72-ff17cf610544",
   "metadata": {},
   "outputs": [
    {
     "ename": "SyntaxError",
     "evalue": "invalid syntax (4102093339.py, line 2)",
     "output_type": "error",
     "traceback": [
      "\u001b[1;36m  Cell \u001b[1;32mIn[18], line 2\u001b[1;36m\u001b[0m\n\u001b[1;33m    in['delhi'or 'agra']\u001b[0m\n\u001b[1;37m    ^\u001b[0m\n\u001b[1;31mSyntaxError\u001b[0m\u001b[1;31m:\u001b[0m invalid syntax\n"
     ]
    }
   ],
   "source": []
  }
 ],
 "metadata": {
  "kernelspec": {
   "display_name": "Python 3 (ipykernel)",
   "language": "python",
   "name": "python3"
  },
  "language_info": {
   "codemirror_mode": {
    "name": "ipython",
    "version": 3
   },
   "file_extension": ".py",
   "mimetype": "text/x-python",
   "name": "python",
   "nbconvert_exporter": "python",
   "pygments_lexer": "ipython3",
   "version": "3.12.4"
  }
 },
 "nbformat": 4,
 "nbformat_minor": 5
}
