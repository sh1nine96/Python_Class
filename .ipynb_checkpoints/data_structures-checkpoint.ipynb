{
 "cells": [
  {
   "cell_type": "markdown",
   "id": "43188ec6-4bfc-45a4-b2b5-0740c90cf1c2",
   "metadata": {},
   "source": [
    "# Datastructures"
   ]
  },
  {
   "cell_type": "raw",
   "id": "9353e309-6b39-4b46-9db4-d77c7d9750b5",
   "metadata": {},
   "source": [
    "In Python, Data structures are used to store and organize data efficiently. Python provides several built-in & user defined data structures:"
   ]
  },
  {
   "cell_type": "markdown",
   "id": "c1260347-13bb-4351-aecf-40ec2bb32a2e",
   "metadata": {},
   "source": [
    "### 1. Built-in Data Structures"
   ]
  },
  {
   "cell_type": "raw",
   "id": "92a1cd3c-e993-4f0e-b55b-0f8dc9a49379",
   "metadata": {},
   "source": [
    "These are part of Python's standard library"
   ]
  },
  {
   "cell_type": "markdown",
   "id": "6a166f86-8add-4145-b998-5bd99191bebd",
   "metadata": {},
   "source": [
    "##### a. List"
   ]
  },
  {
   "cell_type": "code",
   "execution_count": 14,
   "id": "5c918554-881a-49ea-b2b1-1e0f3dd7d847",
   "metadata": {},
   "outputs": [
    {
     "name": "stdout",
     "output_type": "stream",
     "text": [
      "[1, 20, 13, 40]\n",
      "[10, 'ten', 10.09, [12, 14], (20, 10), {12, 15}, {'phone': 985631455, 'email': 'saksham@mail.com'}]\n",
      "<class 'list'>\n",
      "<class 'dict'>\n"
     ]
    }
   ],
   "source": [
    "# Ordered, mutable, allows duplicates\n",
    "\n",
    "homo_list = [1, 20, 13, 40]\n",
    "hetero_list = [10, 'ten', 10.09, [12, 14], (20, 10), {12, 15}, {'phone': 985631455, 'email': 'saksham@mail.com'}]\n",
    "\n",
    "print(homo_list)\n",
    "print(hetero_list)\n",
    "print(type(hetero_list))\n",
    "print(type(hetero_list[6]))"
   ]
  },
  {
   "cell_type": "markdown",
   "id": "8b222372-81ad-4821-83de-c64a8f329f9d",
   "metadata": {},
   "source": [
    "##### b. Tuple"
   ]
  },
  {
   "cell_type": "code",
   "execution_count": 20,
   "id": "09319e09-5c3f-4bd5-805a-582370eaeacd",
   "metadata": {},
   "outputs": [
    {
     "name": "stdout",
     "output_type": "stream",
     "text": [
      "(10, 20, 'saksham')\n",
      "<class 'tuple'> (10, 25, 50)\n",
      "<class 'int'> 15\n",
      "<class 'tuple'> (15,)\n",
      "<class 'tuple'> (15, 16)\n"
     ]
    }
   ],
   "source": [
    "# Ordered, immutable, allows duplicates\n",
    "my_tuple = (10, 20, 'saksham')\n",
    "print(my_tuple)\n",
    "\n",
    "tuple_2 = 10, 25, 50\n",
    "print(type(tuple_2), tuple_2)\n",
    "\n",
    "\n",
    "#difference between integer and tuple\n",
    "x = (15)\n",
    "print(type(x), x)\n",
    "\n",
    "my_var = (15, )\n",
    "print(type(my_var), my_var)\n",
    "\n",
    "my_var2 = 15, 16\n",
    "print(type(my_var2), my_var2)"
   ]
  },
  {
   "cell_type": "markdown",
   "id": "9f4ac099-fefc-477c-8739-6af99faf09c9",
   "metadata": {},
   "source": [
    "##### c. Set"
   ]
  },
  {
   "cell_type": "code",
   "execution_count": 21,
   "id": "3829036e-6011-4a0f-82a5-5243ce7f5bd8",
   "metadata": {},
   "outputs": [
    {
     "name": "stdout",
     "output_type": "stream",
     "text": [
      "{10, 29, 15} <class 'set'>\n"
     ]
    }
   ],
   "source": [
    "# Unordered, mutable, no duplicates\n",
    "my_set = {10, 15, 29}\n",
    "print(my_set, type(my_set))"
   ]
  },
  {
   "cell_type": "markdown",
   "id": "6a07f1ae-5280-4d96-9eab-9bc22f53a2a6",
   "metadata": {},
   "source": [
    "##### d. Dictionary"
   ]
  },
  {
   "cell_type": "code",
   "execution_count": 22,
   "id": "6ba3f97c-aca9-4fd3-9e13-9bd389680fd8",
   "metadata": {},
   "outputs": [
    {
     "name": "stdout",
     "output_type": "stream",
     "text": [
      "{'name': 'Piyush', 'age': 25, 'course': 'Data Analytics'} <class 'dict'>\n"
     ]
    }
   ],
   "source": [
    "# Key - Value pairs, mutable,Ordered, allow duplicates\n",
    "my_dict = {'name': 'Piyush',\n",
    "            'age': 25,\n",
    "            'course': 'Data Analytics'}\n",
    "\n",
    "print(my_dict, type(my_dict))"
   ]
  }
 ],
 "metadata": {
  "kernelspec": {
   "display_name": "Python 3 (ipykernel)",
   "language": "python",
   "name": "python3"
  },
  "language_info": {
   "codemirror_mode": {
    "name": "ipython",
    "version": 3
   },
   "file_extension": ".py",
   "mimetype": "text/x-python",
   "name": "python",
   "nbconvert_exporter": "python",
   "pygments_lexer": "ipython3",
   "version": "3.12.4"
  }
 },
 "nbformat": 4,
 "nbformat_minor": 5
}
