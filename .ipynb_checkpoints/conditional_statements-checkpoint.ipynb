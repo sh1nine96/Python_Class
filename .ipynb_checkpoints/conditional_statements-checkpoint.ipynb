{
 "cells": [
  {
   "cell_type": "markdown",
   "id": "25e7f01c-36ce-4cff-9b37-f672445ceafe",
   "metadata": {},
   "source": [
    "## Python Conditional Statements"
   ]
  },
  {
   "cell_type": "raw",
   "id": "6c2da9d1-a63d-44d5-b71e-3ebf9f19a370",
   "metadata": {},
   "source": [
    "Conditional Statements in python allows us to execute specific block of code based on certain conditions. The code will run if the condition is true else it will skip the code. This will help us in decision making"
   ]
  },
  {
   "cell_type": "markdown",
   "id": "f57cc5b3-2082-4d35-b2fc-d62076a2d27f",
   "metadata": {},
   "source": [
    "#### Types of conditional statements"
   ]
  },
  {
   "cell_type": "code",
   "execution_count": 10,
   "id": "456f24c1-eab7-4181-a92d-104865c0ea61",
   "metadata": {},
   "outputs": [
    {
     "name": "stdout",
     "output_type": "stream",
     "text": [
      "You are eligible to 💑\n"
     ]
    }
   ],
   "source": [
    "# 1.  If Statement\n",
    "# It will execute the code only if the codition is true\n",
    "\n",
    "'''  If condition:\n",
    "         print()   \n",
    "'''\n",
    "\n",
    "age = 18  \n",
    "\n",
    "if age >= 18:\n",
    "    print('You are eligible to 💑')"
   ]
  },
  {
   "cell_type": "code",
   "execution_count": 15,
   "id": "136e6393-48ab-4904-bc11-a2712fd11434",
   "metadata": {},
   "outputs": [
    {
     "name": "stdout",
     "output_type": "stream",
     "text": [
      "You are eligible to 💑\n"
     ]
    }
   ],
   "source": [
    "# 2. If else statement\n",
    "# It will execute the code after checking 2 conditions, It will provide an alternative when the condition is false\n",
    "\n",
    "age = 25\n",
    "\n",
    "if age >= 18:\n",
    "    print('You are eligible to 💑')\n",
    "else:\n",
    "    print('You are not allowed to 💑')"
   ]
  },
  {
   "cell_type": "code",
   "execution_count": 17,
   "id": "dfe9e95d-d9a0-44fe-baf0-ef7fb62a5d49",
   "metadata": {},
   "outputs": [
    {
     "name": "stdout",
     "output_type": "stream",
     "text": [
      "A Grade\n"
     ]
    }
   ],
   "source": [
    "# 3. If elif else statement\n",
    "# when we have more than 2 conditions check, we will use this statement\n",
    "\n",
    "'''\n",
    "if condition1:\n",
    "    #execute the code if condition1 is true\n",
    "if condition2:\n",
    "    #execute the code if condition2 is true\n",
    "    .\n",
    "    .\n",
    "    .\n",
    "if conditionN:\n",
    "    #execute the code if conditionN is true    \n",
    "else:\n",
    "     #execute the code if all conditions are false\n",
    "'''\n",
    "\n",
    "# if marks > 90 => A, >80 => B, >70 => c, >60=> d , >50 => E, > 40 E-, <40 => fail\n",
    "marks = 92\n",
    "\n",
    "if marks > 90:\n",
    "    print('A Grade')\n",
    "elif marks > 80:\n",
    "    print('B Grade')\n",
    "elif marks > 70:\n",
    "    print('C Grade')\n",
    "elif marks > 60:\n",
    "    print('D Grade')\n",
    "elif marks > 50:\n",
    "    print('E Grade')\n",
    "elif marks > 40:\n",
    "    print('E- Grade') \n",
    "else:\n",
    "    print('Failed')"
   ]
  },
  {
   "cell_type": "code",
   "execution_count": 19,
   "id": "95779b19-4263-4711-ab84-45aed9884946",
   "metadata": {},
   "outputs": [
    {
     "name": "stdout",
     "output_type": "stream",
     "text": [
      "ladka shadi ke liye taiyar hai\n"
     ]
    }
   ],
   "source": [
    "# 4. Nested If statements\n",
    "\n",
    "'''  SYNTAX\n",
    "if condition1:\n",
    "    if condition2:\n",
    "        code will execute only if both the conditions are true\n",
    "'''\n",
    "\n",
    "age = 21\n",
    "gender = 'male'\n",
    "\n",
    "if age >= 21:\n",
    "    if gender == 'male':\n",
    "        print('ladka shadi ke liye taiyar hai')"
   ]
  }
 ],
 "metadata": {
  "kernelspec": {
   "display_name": "Python 3 (ipykernel)",
   "language": "python",
   "name": "python3"
  },
  "language_info": {
   "codemirror_mode": {
    "name": "ipython",
    "version": 3
   },
   "file_extension": ".py",
   "mimetype": "text/x-python",
   "name": "python",
   "nbconvert_exporter": "python",
   "pygments_lexer": "ipython3",
   "version": "3.12.4"
  }
 },
 "nbformat": 4,
 "nbformat_minor": 5
}
