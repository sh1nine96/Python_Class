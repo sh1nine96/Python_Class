{
 "cells": [
  {
   "cell_type": "markdown",
   "id": "bc9348cd-8c62-4d42-841a-4f12cd4e0ff1",
   "metadata": {},
   "source": [
    "## List"
   ]
  },
  {
   "cell_type": "raw",
   "id": "eb1a7020-7448-42dc-be30-1b0fd6049514",
   "metadata": {},
   "source": [
    "A list in Python is a mutable (changeable), ordered collection of elements. Lists can contain elements of different types, such as integers, strings, or even other lists. They are one of the most versatile and commonly used data structures in Python."
   ]
  },
  {
   "cell_type": "markdown",
   "id": "0dd5689a-430e-4f63-a20d-03a5998dbc81",
   "metadata": {},
   "source": [
    "### Characteristics of a List"
   ]
  },
  {
   "cell_type": "raw",
   "id": "663f7f2e-ad89-4256-87bc-55a913b4468c",
   "metadata": {},
   "source": [
    "1.Ordered: The items in a list have a defined order, and the order will not change unless explicitly modified.\n",
    "2.Mutable: Lists are changeable, meaning you can modify their content (add, remove, or change elements).\n",
    "3.Indexed: You can access list items using their index, starting from 0.\n",
    "4.Allow Duplicates: Lists can have duplicate values.5.\n",
    "Flexible Data Types: A list can contain elements of different data types (e.g., integers, strings, other lists)."
   ]
  },
  {
   "cell_type": "markdown",
   "id": "68804a0b-e865-473f-9cc5-f2d99798b4d2",
   "metadata": {},
   "source": [
    "#### Creating a List"
   ]
  },
  {
   "cell_type": "code",
   "execution_count": 16,
   "id": "b82c7018-9ea8-442b-8a35-4430b7e44312",
   "metadata": {},
   "outputs": [
    {
     "name": "stdout",
     "output_type": "stream",
     "text": [
      "[12, 14, 10, 5]\n",
      "[1, 10.5, 'Saksham', [10, 20], (25, 50), {34, 36}, {'name': 'Saksham', 'roll_no': 57}]\n",
      "1\n",
      "<class 'float'>\n",
      "<class 'str'>\n",
      "<class 'list'>\n",
      "<class 'tuple'>\n",
      "<class 'set'>\n",
      "<class 'dict'>\n",
      "<class 'list'>\n",
      "<class 'int'>\n",
      "<class 'float'>\n",
      "<class 'str'>\n",
      "<class 'list'>\n",
      "<class 'tuple'>\n",
      "<class 'set'>\n",
      "<class 'dict'>\n",
      "[]\n"
     ]
    }
   ],
   "source": [
    "my_list = [12, 14, 10, 5 ]\n",
    "print(my_list)\n",
    "\n",
    "# mixed datatype list\n",
    "my_mixed_list = [1, 10.5, 'Saksham', [10, 20], (25, 50), {34, 36}, {'name': 'Saksham', 'roll_no': 57}]\n",
    "print(my_mixed_list)\n",
    "\n",
    "\n",
    "print(type(my_mixed_list))\n",
    "print(type(my_mixed_list[0]))\n",
    "print(type(my_mixed_list[1]))\n",
    "print(type(my_mixed_list[2]))\n",
    "print(type(my_mixed_list[3]))\n",
    "print(type(my_mixed_list[4]))\n",
    "print(type(my_mixed_list[5]))\n",
    "print(type(my_mixed_list[6]))\n",
    "\n",
    "\n",
    "# Create an empty list\n",
    "my_empty_list = []\n",
    "print(my_empty_list)"
   ]
  },
  {
   "cell_type": "code",
   "execution_count": 24,
   "id": "2c8bea35-0dac-486a-bdc6-d265c7032c45",
   "metadata": {},
   "outputs": [
    {
     "name": "stdout",
     "output_type": "stream",
     "text": [
      "1\n",
      "10.5\n",
      "Saksham\n",
      "[10, 20]\n",
      "(25, 50)\n",
      "{34, 36}\n",
      "{'name': 'Saksham', 'roll_no': 57}\n",
      "<class 'dict'>\n"
     ]
    }
   ],
   "source": [
    "# Accessing elements and knowing their type\n",
    "my_mixed_list = [1, 10.5, 'Saksham', [10, 20], (25, 50), {34, 36}, {'name': 'Saksham', 'roll_no': 57}]\n",
    "\n",
    "print(my_mixed_list[0])\n",
    "print(my_mixed_list[1])\n",
    "print(my_mixed_list[2])\n",
    "print(my_mixed_list[3])\n",
    "print(my_mixed_list[4])\n",
    "print(my_mixed_list[5])\n",
    "print(my_mixed_list[6])\n",
    "print(type(my_mixed_list[6]))"
   ]
  },
  {
   "cell_type": "markdown",
   "id": "27816a06-1339-409e-8bd4-3c3f75ea8c25",
   "metadata": {},
   "source": [
    "#### Slicing a list"
   ]
  },
  {
   "cell_type": "code",
   "execution_count": 38,
   "id": "eec08582-fb9c-468d-bd03-f4cdaa269d9f",
   "metadata": {},
   "outputs": [
    {
     "name": "stdout",
     "output_type": "stream",
     "text": [
      "students: ['Saksham', 'Aditya', 'Piyush', 'Manish', 'Gaurav', 'Himanshu']\n",
      "python_students: ['Saksham', 'Aditya', 'Piyush']\n",
      "tableau_students: ['Manish', 'Gaurav', 'Himanshu']\n",
      "['Saksham', 'Piyush', 'Gaurav']\n"
     ]
    }
   ],
   "source": [
    "# Slicing a list\n",
    "student_names = ['Saksham', 'Aditya', 'Piyush', 'Manish', 'Gaurav', 'Himanshu']\n",
    "python_students = student_names[0:3]\n",
    "tableau_students = student_names[3:]\n",
    "print('students:', student_names)\n",
    "print('python_students:', python_students)\n",
    "print('tableau_students:', tableau_students)\n",
    "print(student_names[0::2])"
   ]
  },
  {
   "cell_type": "code",
   "execution_count": 39,
   "id": "43f56535-8705-4666-b6bb-6864efc2bf8d",
   "metadata": {},
   "outputs": [
    {
     "name": "stdout",
     "output_type": "stream",
     "text": [
      "[2, 4, 6, 8, 10]\n"
     ]
    }
   ],
   "source": [
    "num_list = [1, 2, 3, 4, 5, 6, 7, 8, 9, 10]\n",
    "\n",
    "# print karo even numbers using list slicing\n",
    "print(num_list[1::2])"
   ]
  },
  {
   "cell_type": "markdown",
   "id": "5c8e1822-9aa3-4b1c-ba10-35b3b06e1585",
   "metadata": {},
   "source": [
    "#### Modifying a List"
   ]
  },
  {
   "cell_type": "raw",
   "id": "f3ebf401-c2f3-4280-9889-3312aaca626b",
   "metadata": {},
   "source": [
    "Since lists are mutable, you can modify them by assigning values to specific indexes or using various methods to add or remove elements."
   ]
  },
  {
   "cell_type": "code",
   "execution_count": 54,
   "id": "766079aa-8348-49eb-8f8c-1170ec52618a",
   "metadata": {},
   "outputs": [
    {
     "name": "stdout",
     "output_type": "stream",
     "text": [
      "6 ['Saksham', 'Aditya', 'Piyush', 'Manish', 'Gaurav', 'Himanshu']\n",
      "6 ['Saksham', 'Aditya', 'Piyush', 'Rajesh', 'Gaurav', 'Himanshu']\n",
      "[1, 2, 3, 4, 5, 6, 7, 8, 9, 10]\n",
      "[1, 2, 3, 4, 50, 6, 7, 8, 9, 10]\n"
     ]
    }
   ],
   "source": [
    "# Modifying a list at specific positions\n",
    "student_names = ['Saksham', 'Aditya', 'Piyush', 'Manish', 'Gaurav', 'Himanshu']\n",
    "print(len(student_names), student_names)\n",
    "student_names[3] = 'Rajesh'\n",
    "modified_list = student_names\n",
    "print(len(modified_list), modified_list)\n",
    "\n",
    "num_list = [1, 2, 3, 4, 5, 6, 7, 8, 9, 10]\n",
    "print(num_list)\n",
    "num_list[4] = 50\n",
    "print(num_list)"
   ]
  },
  {
   "cell_type": "code",
   "execution_count": 62,
   "id": "430fd097-19db-4299-a031-6d0bc399bc18",
   "metadata": {},
   "outputs": [
    {
     "name": "stdout",
     "output_type": "stream",
     "text": [
      "[10, 20, 30, 35]\n",
      "[10, 20, 25, 30, 35]\n",
      "[20, 25, 30, 35]\n",
      "35\n",
      "[20, 25, 30]\n",
      "[]\n"
     ]
    }
   ],
   "source": [
    "# Modify list using methods\n",
    "my_list = [10, 20, 30]\n",
    "\n",
    "#append method => it will add an element to the end of list\n",
    "my_list.append(35)\n",
    "print(my_list)\n",
    "\n",
    "#insert method => it will add an element at specific position inside a list\n",
    "my_list.insert(2, 25)\n",
    "print(my_list)\n",
    "\n",
    "#remove method => it removes an element from a list by its value => position free\n",
    "my_list.remove(10)\n",
    "print(my_list)\n",
    "\n",
    "#pop method => it removes an element from a list by its position\n",
    "popped_element = my_list.pop(3)\n",
    "print(popped_element)\n",
    "print(my_list)\n",
    "\n",
    "# clear => it will remove everything(all the elements) from a list\n",
    "my_list.clear()\n",
    "print(my_list)"
   ]
  },
  {
   "cell_type": "markdown",
   "id": "ba1d8289-090c-47c7-9521-34d69fdd9395",
   "metadata": {},
   "source": [
    "### Other List Methods"
   ]
  },
  {
   "cell_type": "code",
   "execution_count": 104,
   "id": "f40b7e33-f9b4-49b5-a162-73fa2e3b6509",
   "metadata": {},
   "outputs": [
    {
     "name": "stdout",
     "output_type": "stream",
     "text": [
      "10 50\n",
      "3\n",
      "2\n",
      "[10, 20, 30, 40, 40, 45, 50]\n",
      "['Aditya', 'Piyush', 'Saksham', 'Vinay']\n",
      "[50, 40, 45, 20, 40, 30, 10]\n",
      "['Aditya', 'Vinay', 'Piyush', 'Saksham']\n",
      "[10, 20, 30, 100, 50, 200, 240, 60]\n"
     ]
    }
   ],
   "source": [
    "#index() => it will return the index of the first occurence of value\n",
    "my_list = [10, 20, 30, 40, 45, 50]\n",
    "print(my_list[0], my_list[-1])\n",
    "print(my_list.index(40)) # print 3 as the index\n",
    "\n",
    "# count() => it will count the occurence of a value inside a list\n",
    "my_list = [10, 20, 30, 40, 45, 40, 50]\n",
    "print(my_list.count(40)) # print 3 as number of occurence\n",
    "\n",
    "# sort() => sorts the element in ascending order (modify the original list)\n",
    "my_list = [10, 20, 30, 40, 45, 40, 50]\n",
    "my_list.sort()\n",
    "print(my_list)\n",
    "\n",
    "student = ['Saksham', 'Piyush', 'Vinay', 'Aditya']\n",
    "student.sort()\n",
    "print(student) # this will sort in alphabetic order\n",
    "\n",
    "# reverse() => it will reverse the order of the list (modify the original list)\n",
    "\n",
    "my_list = [10, 30, 40, 20, 45, 40, 50]\n",
    "my_list.reverse()\n",
    "print(my_list)\n",
    "\n",
    "student = ['Saksham', 'Piyush', 'Vinay', 'Aditya']\n",
    "student.reverse()\n",
    "print(student)\n",
    "\n",
    "# extend() => add all elements from another iterable to the end of the list\n",
    "my_list = [10, 20, 30]\n",
    "second_list =[100, 50, 200, 240, 60]\n",
    "my_list.extend(second_list)\n",
    "print(my_list)"
   ]
  },
  {
   "cell_type": "code",
   "execution_count": 100,
   "id": "1684e9db-f379-431a-88d0-7c9968368552",
   "metadata": {},
   "outputs": [
    {
     "name": "stdout",
     "output_type": "stream",
     "text": [
      "[10, 30, [20, 15]]\n",
      "2328423039424 2328423043008\n",
      "[10, 30, [70, 15]] [10, 30, [70, 15]]\n"
     ]
    }
   ],
   "source": [
    "# copy() => Creates a shallow copy of the list\n",
    "my_list = [10, 30, [20, 15]]\n",
    "copied_list = my_list.copy()\n",
    "print(copied_list)\n",
    "print(id(my_list), id(copied_list))\n",
    "copied_list[2][0] = 70\n",
    "print(copied_list, my_list)\n"
   ]
  },
  {
   "cell_type": "code",
   "execution_count": 102,
   "id": "cce695b9-d584-4657-876c-d0f1a7cf0679",
   "metadata": {},
   "outputs": [
    {
     "name": "stdout",
     "output_type": "stream",
     "text": [
      "[1, 10, [50, 200, 60]] [1, 10, [50, 200, 60]]\n",
      "[5, 20, [15, 10]]\n",
      "2328423050624 2328423041664\n",
      "[5, 20, [15, 50]] [5, 20, [15, 10]]\n"
     ]
    }
   ],
   "source": [
    "import copy\n",
    "new_list = [5, 20, [15, 10]]\n",
    "second_list = [1, 10, [50, 20, 60]]\n",
    "shallow_copy = copy.copy(second_list)\n",
    "shallow_copy[2][1] = 200\n",
    "print(shallow_copy, second_list)\n",
    "\n",
    "deepcopied_list = copy.deepcopy(new_list)\n",
    "print(deepcopied_list)\n",
    "print(id(new_list), id(deepcopied_list))\n",
    "deepcopied_list[2][1] = 50\n",
    "print(deepcopied_list, new_list)"
   ]
  },
  {
   "cell_type": "markdown",
   "id": "0713ecc0-7cdd-4c86-9b72-e5af1bb39a02",
   "metadata": {},
   "source": [
    "### Rules for Lists"
   ]
  },
  {
   "cell_type": "raw",
   "id": "6653b81b-1c59-4b62-abd1-2e57fb91f305",
   "metadata": {},
   "source": [
    "1.Mutable: Lists can be changed after creation. You can modify, add, or remove elements.\n",
    "2.Ordered: Lists maintain the order of elements, meaning elements have a position that does not change unless explicitly modified.\n",
    "3.Allow Duplicates: Lists can contain multiple occurrences of the same element.\n",
    "4.Indexing: Lists are indexed, with the first element having index 0, and the last element having an index of -1.\n",
    "5.Heterogeneous Data: Lists can store elements of different data types."
   ]
  },
  {
   "cell_type": "markdown",
   "id": "65e43f98-6489-4c80-8c14-a796220c76d3",
   "metadata": {},
   "source": [
    "### Use Cases for List"
   ]
  },
  {
   "cell_type": "code",
   "execution_count": 105,
   "id": "3c54dffd-83bf-4043-8edb-15ccec291b66",
   "metadata": {},
   "outputs": [
    {
     "name": "stdout",
     "output_type": "stream",
     "text": [
      "['Buy groceries', 'Walk the dog', 'Finish homework', 'Read a book']\n"
     ]
    }
   ],
   "source": [
    "# Dynamic Data Storage: Lists are perfect for cases where the number of elements is not fixed and may change dynamically, \n",
    "# like managing a to-do list, a shopping list, or user inputs.\n",
    "\n",
    "todo_list = [\"Buy groceries\", \"Walk the dog\", \"Finish homework\"]\n",
    "todo_list.append(\"Read a book\")\n",
    "print(todo_list)  # Output: ['Buy groceries', 'Walk the dog', 'Finish homework', 'Read a book']"
   ]
  },
  {
   "cell_type": "code",
   "execution_count": 106,
   "id": "f1549c29-ec9d-475d-9fa1-ed24fc78978c",
   "metadata": {},
   "outputs": [
    {
     "name": "stdout",
     "output_type": "stream",
     "text": [
      "[12, 15, 20, 100]\n"
     ]
    }
   ],
   "source": [
    "# Collecting Multiple Values: Lists are great for scenarios where multiple values need to be collected,\n",
    "# such as storing all numbers greater than 10 from a sequence.\n",
    "\n",
    "numbers = [5, 8, 12, 15, 3, 20, 9, 100]\n",
    "result = [num for num in numbers if num > 10]\n",
    "print(result)  # Output: [12, 15]"
   ]
  },
  {
   "cell_type": "code",
   "execution_count": 115,
   "id": "1f17dcdd-c5f7-4b15-bd90-ab7b43651d70",
   "metadata": {},
   "outputs": [
    {
     "name": "stdout",
     "output_type": "stream",
     "text": [
      "my squared list is: [1, 4, 9, 16, 25]\n",
      "hello my [1, 4, 9, 16, 25] list\n",
      "Hi Saksham, how are you\n"
     ]
    }
   ],
   "source": [
    "# Data Manipulation and Transformation: You can use lists to store datasets and perform operations such as filtering, \n",
    "# mapping, and reducing.\n",
    "\n",
    "numbers = [1, 2, 3, 4, 5]\n",
    "squared = [x**2 for x in numbers]\n",
    "print(f\"my squared list is: {squared}\")  # Output: [1, 4, 9, 16, 25]\n",
    "print(f\"hello my {squared} list\")\n",
    "\n",
    "# formatted string\n",
    "student = 'Saksham'\n",
    "# hi sasksham, how are you?\n",
    "print(f\"Hi {student}, how are you\")"
   ]
  },
  {
   "cell_type": "code",
   "execution_count": 118,
   "id": "ced7a9be-db44-4cda-9549-782ec443208d",
   "metadata": {},
   "outputs": [
    {
     "name": "stdout",
     "output_type": "stream",
     "text": [
      "[1, 5]\n"
     ]
    }
   ],
   "source": [
    "# Multiple Values as Function Output: Lists are commonly used to return multiple values from a function, \n",
    "# especially when you need to handle or store several results.\n",
    "\n",
    "def get_first_and_last(parameter):\n",
    "    return [parameter[0], parameter[-1]]\n",
    "\n",
    "result = get_first_and_last([1, 2, 3, 4, 5])  # Output: [1, 5]\n",
    "print(result)"
   ]
  },
  {
   "cell_type": "markdown",
   "id": "3df2f0bb-fee9-40d6-ad62-55435c6fabff",
   "metadata": {},
   "source": [
    "### Summary of List"
   ]
  },
  {
   "cell_type": "raw",
   "id": "057fc2c1-962b-41f3-911e-adbcb5543a09",
   "metadata": {},
   "source": [
    "1.Lists are mutable, ordered collections of elements.\n",
    "2.They support a variety of methods like append(), insert(), remove(), sort(), and more.\n",
    "3.Lists can store different data types and allow duplicates.\n",
    "4.They are commonly used for dynamic data storage, manipulation, and returning multiple values in functions."
   ]
  }
 ],
 "metadata": {
  "kernelspec": {
   "display_name": "Python 3 (ipykernel)",
   "language": "python",
   "name": "python3"
  },
  "language_info": {
   "codemirror_mode": {
    "name": "ipython",
    "version": 3
   },
   "file_extension": ".py",
   "mimetype": "text/x-python",
   "name": "python",
   "nbconvert_exporter": "python",
   "pygments_lexer": "ipython3",
   "version": "3.12.4"
  }
 },
 "nbformat": 4,
 "nbformat_minor": 5
}
