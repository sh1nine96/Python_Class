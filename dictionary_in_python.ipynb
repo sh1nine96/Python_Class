{
 "cells": [
  {
   "cell_type": "markdown",
   "id": "366cd3e2-c788-43ac-973b-23d7da9cd757",
   "metadata": {},
   "source": [
    "## Dictionary in Python"
   ]
  },
  {
   "cell_type": "raw",
   "id": "646397c5-6eff-4912-aade-a25b16c6b5ca",
   "metadata": {},
   "source": [
    "A dictionary in Python is an unordered collection of key-value pairs, where each key is unique, and each key is associated with a value. Dictionaries are incredibly efficient for lookups, and they are widely used for tasks such as mapping data or storing information in a key-value format."
   ]
  },
  {
   "cell_type": "markdown",
   "id": "91c25bde-4f8f-400b-ae4d-fc5165a2b59b",
   "metadata": {},
   "source": [
    "### Characteristics of Dictionary"
   ]
  },
  {
   "cell_type": "raw",
   "id": "478c8a25-1089-4f0b-9005-d8458166fdf4",
   "metadata": {},
   "source": [
    "1.Unordered: The items in a dictionary are not stored in any specific order, and their order may change when the dictionary is modified.\n",
    "2.Mutable: Dictionaries are mutable, meaning you can modify them by adding, removing, or changing key-value pairs.\n",
    "3.Key-Value Pairs: Each element in a dictionary is a pair consisting of a key and a value.\n",
    "4.Unique Keys: Keys in a dictionary must be unique. If a key is repeated, the value associated with that key will be overwritten.\n",
    "5.Keys are Immutable: Keys must be of an immutable data type such as strings, numbers, or tuples. Lists cannot be used as dictionary keys.\n",
    "6.Flexible Value Types: The values in a dictionary can be of any data type, including other dictionaries, lists, or objects"
   ]
  },
  {
   "cell_type": "markdown",
   "id": "36e0fdb7-a020-4422-8112-dfa1794ff3ec",
   "metadata": {},
   "source": [
    "#### Creating a Dictionary"
   ]
  },
  {
   "cell_type": "code",
   "execution_count": 3,
   "id": "3db95b4e-d858-4ff9-b555-2f5b1b91491b",
   "metadata": {},
   "outputs": [
    {
     "name": "stdout",
     "output_type": "stream",
     "text": [
      "{'name': 'Aditya Kumar', 'course': 'Data Analytics'}\n",
      "{'id': 1, 'name': 'Saksham', 'tools': ['excel', 'SQL', 'Tableau', 'Python']}\n"
     ]
    }
   ],
   "source": [
    "my_dict = {\"name\": \"Aditya Kumar\", \"course\": \"Data Analytics\"}\n",
    "print(my_dict)\n",
    "\n",
    "# mixed datatype dictionary\n",
    "mixed_dict = {\"id\": 1, \"name\": \"Saksham\", \"tools\": [\"excel\", \"SQL\", \"Tableau\", \"Python\"]}\n",
    "print(mixed_dict)"
   ]
  },
  {
   "cell_type": "code",
   "execution_count": 13,
   "id": "40775716-d2cf-4e5c-9867-c996c81ee49f",
   "metadata": {},
   "outputs": [
    {
     "name": "stdout",
     "output_type": "stream",
     "text": [
      "1\n",
      "['excel', 'SQL', 'Tableau', 'Python']\n",
      "1\n",
      "['excel', 'SQL', 'Tableau', 'Python']\n",
      "None\n"
     ]
    }
   ],
   "source": [
    "### Accessing Values in Dictionary\n",
    "mixed_dict = {\"id\": 1, \"name\": \"Saksham\", \"tools\": [\"excel\", \"SQL\", \"Tableau\", \"Python\"]}\n",
    "print(mixed_dict[\"id\"])\n",
    "print(mixed_dict[\"tools\"])\n",
    "\n",
    "# Access values using get method\n",
    "print(mixed_dict.get(\"id\"))\n",
    "print(mixed_dict.get(\"tools\"))\n",
    "\n",
    "# Difference between normal accessing of dictionary vs accessing via get method\n",
    "# print(mixed_dict[\"course\"]) # => this will throw error as key \"course\" is not present\n",
    "# but if i access it with get method then it will not throw error but will return none\n",
    "print(mixed_dict.get(\"course\"))"
   ]
  },
  {
   "cell_type": "markdown",
   "id": "fa92b925-d066-432d-8bee-1fc4dc9612c6",
   "metadata": {},
   "source": [
    "### Modifying Dictionaries"
   ]
  },
  {
   "cell_type": "code",
   "execution_count": 24,
   "id": "c255813f-402f-49a4-8e0f-47990bbd2d54",
   "metadata": {},
   "outputs": [
    {
     "name": "stdout",
     "output_type": "stream",
     "text": [
      "{'id': 101, 'name': 'Saksham', 'tools': ['excel', 'SQL', 'Tableau', 'Python']}\n",
      "{'id': 101, 'name': 'Saksham', 'tools': ['excel', 'SQL', 'Tableau', 'Python'], 'course': 'Data Science'}\n",
      "{'id': 101, 'name': 'Saksham', 'tools': ['excel', 'SQL', 'Tableau', 'Python'], 'course': 'Data Science', 'city': 'Gurgaon'}\n",
      "{'id': 101, 'name': 'Saksham', 'tools': ['excel', 'SQL', 'Tableau', 'Python'], 'course': 'Data Science'}\n",
      "Data Science\n",
      "{'id': 101, 'name': 'Saksham', 'tools': ['excel', 'SQL', 'Tableau', 'Python']}\n",
      "popped value: Data Science \n",
      "and modified dict is {'id': 101, 'name': 'Saksham', 'tools': ['excel', 'SQL', 'Tableau', 'Python']}\n"
     ]
    }
   ],
   "source": [
    "mixed_dict = {\"id\": 1, \"name\": \"Saksham\", \"tools\": [\"excel\", \"SQL\", \"Tableau\", \"Python\"]}\n",
    "\n",
    "# modifying an existing value\n",
    "mixed_dict[\"id\"] = 101\n",
    "print(mixed_dict)\n",
    "\n",
    "# add a key-value pair to the existing dictionary\n",
    "mixed_dict[\"course\"] = \"Data Science\"\n",
    "print(mixed_dict)\n",
    "\n",
    "mixed_dict[\"city\"] = \"Gurgaon\"\n",
    "print(mixed_dict)\n",
    "\n",
    "# remove a key-value pair from dictionary\n",
    "del mixed_dict[\"city\"]\n",
    "print(mixed_dict)\n",
    "\n",
    "# remove a key-value pair using pop method => it will return the popped value\n",
    "popped_value = mixed_dict.pop(\"course\")\n",
    "print(popped_value )\n",
    "print(mixed_dict)\n",
    "print(f'''popped value: {popped_value} \n",
    "and my modified dict is {mixed_dict}''')"
   ]
  },
  {
   "cell_type": "markdown",
   "id": "02abd3e5-da17-4ebd-92d7-29b5e3c74a8a",
   "metadata": {},
   "source": [
    "### Dictionary Methods"
   ]
  },
  {
   "cell_type": "raw",
   "id": "b843c24f-100d-4f15-bc95-049289e86b7f",
   "metadata": {},
   "source": [
    "Python provides several built-in methods for working with dictionaries. Below are some common methods with examples."
   ]
  },
  {
   "cell_type": "code",
   "execution_count": 29,
   "id": "69d7737d-bda3-45a4-b283-af00931d5594",
   "metadata": {},
   "outputs": [
    {
     "name": "stdout",
     "output_type": "stream",
     "text": [
      "['excel', 'SQL', 'Tableau', 'Python']\n",
      "None\n",
      "key course is not found\n"
     ]
    }
   ],
   "source": [
    "# get() => it returns the value specified to a key,\n",
    "# returns none if key is not found, or a default value if specified\n",
    "print(mixed_dict.get('tools'))\n",
    "print(mixed_dict.get('course'))\n",
    "\n",
    "# here is an example with default value provided\n",
    "print(mixed_dict.get('course', 'key course is not found'))"
   ]
  },
  {
   "cell_type": "code",
   "execution_count": 31,
   "id": "d6e2f57e-927d-4c9b-a594-230ad46b8a24",
   "metadata": {},
   "outputs": [
    {
     "name": "stdout",
     "output_type": "stream",
     "text": [
      "dict_keys(['id', 'name', 'tools'])\n"
     ]
    }
   ],
   "source": [
    "# keys() => it will return the keys inside a dictionary\n",
    "print(mixed_dict.keys())\n",
    "# will return => dict_keys(['id', 'name', 'tools'])"
   ]
  },
  {
   "cell_type": "code",
   "execution_count": 33,
   "id": "f17680d2-5fb9-4bb0-a970-0468575b3ea8",
   "metadata": {},
   "outputs": [
    {
     "name": "stdout",
     "output_type": "stream",
     "text": [
      "dict_values([101, 'Saksham', ['excel', 'SQL', 'Tableau', 'Python']])\n"
     ]
    }
   ],
   "source": [
    "# values() => will returns the values inside a dictionary\n",
    "print(mixed_dict.values())\n",
    "# will print => dict_values([101, 'Saksham', ['excel', 'SQL', 'Tableau', 'Python']])"
   ]
  },
  {
   "cell_type": "code",
   "execution_count": 36,
   "id": "58f19b77-b159-4c31-854b-c64e7fe6fd55",
   "metadata": {},
   "outputs": [
    {
     "name": "stdout",
     "output_type": "stream",
     "text": [
      "dict_items([('id', 101), ('name', 'Saksham'), ('tools', ['excel', 'SQL', 'Tableau', 'Python'])])\n"
     ]
    }
   ],
   "source": [
    "# items() => will return the total elements(key-value pairs) inside a dictionary\n",
    "print(mixed_dict.items())\n",
    "\n",
    "# will print => dict_items([('id', 101), ('name', 'Saksham'), ('tools', ['excel', 'SQL', 'Tableau', 'Python'])])"
   ]
  },
  {
   "cell_type": "code",
   "execution_count": 42,
   "id": "8d9d0787-0d58-4c63-9222-4f71c04a64a2",
   "metadata": {},
   "outputs": [
    {
     "name": "stdout",
     "output_type": "stream",
     "text": [
      "{'id': 101, 'name': 'Saksham', 'tools': ['excel', 'SQL', 'Tableau', 'Python'], 'country': 'India', 'city': 'Delhi'}\n",
      "popped_value: Delhi\n",
      "and modified dict: {'id': 101, 'name': 'Saksham', 'tools': ['excel', 'SQL', 'Tableau', 'Python'], 'country': 'India'}\n",
      "popped_item: ('country', 'India')\n",
      "and modified dict: {'id': 101, 'name': 'Saksham', 'tools': ['excel', 'SQL', 'Tableau', 'Python']}\n"
     ]
    }
   ],
   "source": [
    "# pop() => it will return only popped value\n",
    "# popitem() => it will remove and return an arbitary item (key, value) specified\n",
    "\n",
    "# lets add an item first\n",
    "mixed_dict[\"country\"] = \"India\"\n",
    "mixed_dict[\"city\"] = \"Delhi\"\n",
    "print(mixed_dict)\n",
    "\n",
    "# now lets go ahead with pop and popitem\n",
    "popped_value = mixed_dict.pop('city')\n",
    "print(f'''popped_value: {popped_value}\n",
    "and modified dict: {mixed_dict}''')\n",
    "\n",
    "popped_item = mixed_dict.popitem()\n",
    "print(f'''popped_item: {popped_item}\n",
    "and modified dict: {mixed_dict}''')"
   ]
  },
  {
   "cell_type": "code",
   "execution_count": 45,
   "id": "6224133a-4f33-47f9-b263-772924bca627",
   "metadata": {},
   "outputs": [
    {
     "name": "stdout",
     "output_type": "stream",
     "text": [
      "{'id': 102, 'name': 'Piyush', 'tools': ['excel', 'SQL', 'Tableau', 'Python']}\n",
      "{'id': 1001, 'name': 'Aditya', 'tools': ['excel', 'SQL', 'Tableau', 'Python']}\n"
     ]
    }
   ],
   "source": [
    "# update(): Updates the dictionary with key-value pairs from another dictionary or iterable.\n",
    "mixed_dict.update({\"id\": 102, \"name\": \"Piyush\"} )\n",
    "print(mixed_dict)\n",
    "\n",
    "student_dict = {\"id\": 1001, \"name\": \"Aditya\"}\n",
    "mixed_dict.update(student_dict)\n",
    "print(mixed_dict)"
   ]
  },
  {
   "cell_type": "code",
   "execution_count": 46,
   "id": "597ebadb-d8c1-405a-938f-7e720962fd84",
   "metadata": {},
   "outputs": [
    {
     "name": "stdout",
     "output_type": "stream",
     "text": [
      "{'name': 'Aditya Kumar', 'course': 'Data Analytics'}\n",
      "{}\n"
     ]
    }
   ],
   "source": [
    "# clear(): Removes all key-value pairs from the dictionary.\n",
    "my_dict = {\"name\": \"Aditya Kumar\", \"course\": \"Data Analytics\"}\n",
    "print(my_dict)\n",
    "\n",
    "my_dict.clear()\n",
    "print(my_dict)  # Output: {}"
   ]
  },
  {
   "cell_type": "code",
   "execution_count": 48,
   "id": "f8fcef42-09b5-485f-9c29-b34d157e49ff",
   "metadata": {},
   "outputs": [
    {
     "name": "stdout",
     "output_type": "stream",
     "text": [
      "{'name': 'Aditya'}\n",
      "{'name': 'Aditya', 'age': 25}\n",
      "{'name': 'Aditya', 'age': 25}\n"
     ]
    }
   ],
   "source": [
    "# setdefault(): Returns the value of a key if it exists, \n",
    "# otherwise inserts the key with a default value and returns the default value.\n",
    "\n",
    "\n",
    "my_dict = {\"name\": \"Aditya\"}\n",
    "print(my_dict)\n",
    "my_dict.setdefault(\"age\", 25)  # Output: 25\n",
    "print(my_dict)  # Output: {'name': 'Alice', 'age': 25}\n",
    "\n",
    "my_dict.setdefault(\"name\", \"Piyush\")\n",
    "print(my_dict)"
   ]
  },
  {
   "cell_type": "code",
   "execution_count": 51,
   "id": "7e6f1e9e-7576-4426-ad7a-8a8643f8df69",
   "metadata": {},
   "outputs": [
    {
     "name": "stdout",
     "output_type": "stream",
     "text": [
      "copied_dict: {'name': 'Aditya', 'age': 25}\n",
      "my_dict: {'name': 'Aditya', 'age': 25}\n"
     ]
    }
   ],
   "source": [
    "# copy(): Returns a shallow copy of the dictionary.\n",
    "\n",
    "copied_dict = my_dict.copy()\n",
    "print(f'''copied_dict: {copied_dict}\n",
    "my_dict: {my_dict}''')  # Output: {'name': 'Alice', 'age': 25}"
   ]
  },
  {
   "cell_type": "code",
   "execution_count": 54,
   "id": "c799d1f6-1691-484b-a49c-2d5ec6492f32",
   "metadata": {},
   "outputs": [
    {
     "name": "stdout",
     "output_type": "stream",
     "text": [
      "{'name': 'Piyush'}\n"
     ]
    }
   ],
   "source": [
    "my_dict = {\"name\": \"Aditya\", \"name\": \"Piyush\"}\n",
    "print(my_dict)"
   ]
  },
  {
   "cell_type": "markdown",
   "id": "a523bac2-d817-4dd6-88f3-663ffcb6669c",
   "metadata": {},
   "source": [
    "### Rules for Dictionaries"
   ]
  },
  {
   "cell_type": "raw",
   "id": "6691724d-2a2a-46b4-9c45-45fa1e0dbc82",
   "metadata": {},
   "source": [
    "1.Keys are Unique: Every key in a dictionary must be unique. If a key is repeated, the latest value associated with that key will overwrite the previous one.\n",
    "2.Keys are Immutable: The keys must be of immutable types such as strings, numbers, or tuples. You cannot use lists or other dictionaries as keys.\n",
    "3.Dictionaries are Unordered: The key-value pairs do not maintain any specific order (although Python 3.7+ maintains the insertion order, this is not guaranteed in all versions).\n",
    "4.Values can be Any Type: The values can be of any data type, including other dictionaries or lists."
   ]
  },
  {
   "cell_type": "markdown",
   "id": "10832d4b-300d-450c-80a4-5c577939c5ef",
   "metadata": {},
   "source": [
    "### Summary"
   ]
  },
  {
   "cell_type": "raw",
   "id": "311c6cd6-121c-461f-a32d-84178ffa89ee",
   "metadata": {},
   "source": [
    "1.Dictionaries are unordered collections of key-value pairs.\n",
    "2.Keys must be unique and immutable, while values can be of any data type.\n",
    "3.Common dictionary methods include get(), keys(), values(), update(), pop(), and clear().\n",
    "4.They are used for tasks such as storing configuration data, mapping values, fast lookups, and grouping data."
   ]
  }
 ],
 "metadata": {
  "kernelspec": {
   "display_name": "Python 3 (ipykernel)",
   "language": "python",
   "name": "python3"
  },
  "language_info": {
   "codemirror_mode": {
    "name": "ipython",
    "version": 3
   },
   "file_extension": ".py",
   "mimetype": "text/x-python",
   "name": "python",
   "nbconvert_exporter": "python",
   "pygments_lexer": "ipython3",
   "version": "3.12.4"
  }
 },
 "nbformat": 4,
 "nbformat_minor": 5
}
