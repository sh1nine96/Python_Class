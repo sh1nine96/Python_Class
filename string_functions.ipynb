{
 "cells": [
  {
   "cell_type": "markdown",
   "id": "ec8f5ed8-be54-4459-aa4f-b06cc4129405",
   "metadata": {},
   "source": [
    "## String Methods"
   ]
  },
  {
   "cell_type": "markdown",
   "id": "5758c190-64ae-4a1f-9027-53a7f1d27e7c",
   "metadata": {},
   "source": [
    "#### 1. Capitalize"
   ]
  },
  {
   "cell_type": "code",
   "execution_count": 4,
   "id": "83bd0f3a-7dfc-43c0-aa21-77a5ea73594b",
   "metadata": {},
   "outputs": [
    {
     "name": "stdout",
     "output_type": "stream",
     "text": [
      "I am going to market\n",
      "Saksham\n"
     ]
    }
   ],
   "source": [
    "# Capitalize() => It converts only the first letter of a string to uppercase\n",
    "sentence = \"i am going to market\"\n",
    "print(sentence.capitalize())\n",
    "\n",
    "first_name = 'saksham'\n",
    "print(first_name.capitalize())"
   ]
  },
  {
   "cell_type": "markdown",
   "id": "6fb84546-6cfe-4680-8e4a-8b11c726722a",
   "metadata": {},
   "source": [
    "#### 2. casefold"
   ]
  },
  {
   "cell_type": "code",
   "execution_count": 8,
   "id": "a5338462-582c-4871-b7cc-1575858246d8",
   "metadata": {},
   "outputs": [
    {
     "name": "stdout",
     "output_type": "stream",
     "text": [
      "piyush\n"
     ]
    }
   ],
   "source": [
    "# casefold() => It converts the given string to lowercase; it is similar to lower() but more aggressive for certain languages\n",
    "first_name = 'PIYUSH'\n",
    "print(first_name.casefold())"
   ]
  },
  {
   "cell_type": "markdown",
   "id": "afb55d21-c9e9-4a5b-8156-51fc4e91ad4c",
   "metadata": {},
   "source": [
    "#### 3. center()"
   ]
  },
  {
   "cell_type": "code",
   "execution_count": 9,
   "id": "3b21af6c-5a55-4363-8140-6c57a042af1b",
   "metadata": {},
   "outputs": [
    {
     "name": "stdout",
     "output_type": "stream",
     "text": [
      "**Aditya**\n"
     ]
    }
   ],
   "source": [
    "# center(width, [fillchar])\n",
    "# it centers the string within a given width, using an optional fill character\n",
    "\n",
    "student = 'Aditya'\n",
    "# Convert this string like this **Aditya**\n",
    "\n",
    "print(student.center(10, '*'))"
   ]
  },
  {
   "cell_type": "code",
   "execution_count": 10,
   "id": "6d1241ba-5125-44a4-af7c-d9c05e95bdec",
   "metadata": {},
   "outputs": [
    {
     "name": "stdout",
     "output_type": "stream",
     "text": [
      "---This is a note---\n"
     ]
    }
   ],
   "source": [
    "string = 'This is a note'\n",
    "print(string.center(20, '-'))"
   ]
  },
  {
   "cell_type": "code",
   "execution_count": 11,
   "id": "b38acaad-906a-4e09-9541-ab2029a90e27",
   "metadata": {},
   "outputs": [
    {
     "name": "stdout",
     "output_type": "stream",
     "text": [
      "*Saksham**\n"
     ]
    }
   ],
   "source": [
    "student2 = 'Saksham'\n",
    "print(student2.center(10, '*'))"
   ]
  },
  {
   "cell_type": "markdown",
   "id": "0c2c7505-ea90-4530-b137-60566801d1c7",
   "metadata": {},
   "source": [
    "#### 4. count()"
   ]
  },
  {
   "cell_type": "code",
   "execution_count": 18,
   "id": "730f5427-98c6-4f80-a300-7f72af739158",
   "metadata": {},
   "outputs": [
    {
     "name": "stdout",
     "output_type": "stream",
     "text": [
      "3\n"
     ]
    }
   ],
   "source": [
    "# count(substring, [start], [end]) => count the occurences of a substring\n",
    "student = 'Hello this is my student'\n",
    "print(student.count(' ',10, 24))"
   ]
  },
  {
   "cell_type": "code",
   "execution_count": 19,
   "id": "30cbb75c-d208-413d-80b9-cc42f67956d4",
   "metadata": {},
   "outputs": [
    {
     "name": "stdout",
     "output_type": "stream",
     "text": [
      "3\n"
     ]
    }
   ],
   "source": [
    "std = 'Saksham Kumar'\n",
    "print(std.count('a'))"
   ]
  },
  {
   "cell_type": "code",
   "execution_count": 20,
   "id": "c5f8e2b9-699e-4ab0-8fe1-3366a2dc0ec5",
   "metadata": {},
   "outputs": [
    {
     "name": "stdout",
     "output_type": "stream",
     "text": [
      "4\n"
     ]
    }
   ],
   "source": [
    "string = 'Karan ajay Vijay Karan Ritesh Karan Sunil Amit Vijay Prasad Karan'\n",
    "# Find the occurence of Karan in this string\n",
    "print(string.count('Karan'))"
   ]
  },
  {
   "cell_type": "markdown",
   "id": "f3a1bd30-c77a-4940-922a-28323db2b7dc",
   "metadata": {},
   "source": [
    "#### 5. startswith()"
   ]
  },
  {
   "cell_type": "code",
   "execution_count": 22,
   "id": "b9b59f1a-9131-4e1e-ab77-b7e36556d385",
   "metadata": {},
   "outputs": [
    {
     "name": "stdout",
     "output_type": "stream",
     "text": [
      "True\n"
     ]
    }
   ],
   "source": [
    "# Syntax => startswith(prefix, [start], [end])\n",
    "student = 'Piyush'\n",
    "\n",
    "#check if my student starts with 'p'\n",
    "print(student.startswith('P'))"
   ]
  },
  {
   "cell_type": "markdown",
   "id": "1a91d56c-1312-4e10-8858-8d96ab884151",
   "metadata": {},
   "source": [
    "#### 6. endswith()"
   ]
  },
  {
   "cell_type": "code",
   "execution_count": 23,
   "id": "fdeb6c66-b9c7-41af-96a0-320f29ae7cd6",
   "metadata": {},
   "outputs": [
    {
     "name": "stdout",
     "output_type": "stream",
     "text": [
      "True\n"
     ]
    }
   ],
   "source": [
    "# Syntax => endswith(suffix, [start], [end])\n",
    "student = 'Piyush'\n",
    "\n",
    "#check if my student ends with 'h'\n",
    "print(student.endswith('h'))"
   ]
  }
 ],
 "metadata": {
  "kernelspec": {
   "display_name": "Python 3 (ipykernel)",
   "language": "python",
   "name": "python3"
  },
  "language_info": {
   "codemirror_mode": {
    "name": "ipython",
    "version": 3
   },
   "file_extension": ".py",
   "mimetype": "text/x-python",
   "name": "python",
   "nbconvert_exporter": "python",
   "pygments_lexer": "ipython3",
   "version": "3.12.4"
  }
 },
 "nbformat": 4,
 "nbformat_minor": 5
}
