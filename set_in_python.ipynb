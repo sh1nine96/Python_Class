{
 "cells": [
  {
   "cell_type": "markdown",
   "id": "ae6f804b-f374-4ca6-8711-8f65f307f342",
   "metadata": {},
   "source": [
    "## Set in Python"
   ]
  },
  {
   "cell_type": "raw",
   "id": "887500b1-084f-4b6b-be88-fef50086a5da",
   "metadata": {},
   "source": [
    "A set in Python is an unordered collection of unique elements. Sets are commonly used when the existence of an item in a collection is more important than the order or frequency of items. A set automatically eliminates duplicate values and provides efficient membership tests."
   ]
  },
  {
   "cell_type": "markdown",
   "id": "b7341f64-382a-42c5-a581-8529d6915d93",
   "metadata": {},
   "source": [
    "### Characteristics of a Set"
   ]
  },
  {
   "cell_type": "raw",
   "id": "a22a32a7-62eb-497d-8f65-3aa39b6bea49",
   "metadata": {},
   "source": [
    "1.Unordered: The items in a set are not ordered, meaning that there is no indexing, slicing, or other sequence-like behavior.\n",
    "2.Unique Elements: A set cannot contain duplicate elements. If a duplicate is added, it will be ignored.\n",
    "3.Mutable: Sets are mutable, meaning you can add and remove items.\n",
    "4.No Indexing: Sets do not support indexing, slicing, or other sequence-like behavior since they are unordered.\n",
    "5.Heterogeneous: A set can contain elements of any immutable data type, including integers, strings, or tuples.\n",
    "6.Efficient Membership Tests: Sets are optimized for checking whether an item exists in them, which makes them ideal for membership tests."
   ]
  },
  {
   "cell_type": "markdown",
   "id": "a7dc392f-1da4-4328-a0a2-774eb62d838c",
   "metadata": {},
   "source": [
    "### Creating a Set"
   ]
  },
  {
   "cell_type": "code",
   "execution_count": 20,
   "id": "67e78497-47f2-4027-8310-fbe27525b96e",
   "metadata": {},
   "outputs": [
    {
     "name": "stdout",
     "output_type": "stream",
     "text": [
      "{10, 35, 20, 50} <class 'set'>\n",
      "{10, 35, 50, 20} <class 'set'>\n",
      "{'Saksham', 101, 22, 'Data Science'}\n",
      "set() <class 'set'>\n",
      "{10, (20, 30)}\n"
     ]
    }
   ],
   "source": [
    "# Creating a set with unique elements\n",
    "my_set = {10, 20, 35, 50}\n",
    "print(my_set, type(my_set))\n",
    "\n",
    "# creating a set with duplicate elements\n",
    "dupli_set = {10,50, 20,20, 35, 10, 50}\n",
    "print(dupli_set, type(dupli_set))\n",
    "\n",
    "# creating an set with mixed elements\n",
    "mixed_set = {101, \"Saksham\", \"Data Science\", 22}\n",
    "print(mixed_set)\n",
    "\n",
    "# creating an empty set\n",
    "empty_set = set()\n",
    "print(empty_set, type(empty_set))\n",
    "\n",
    "# creating a set with list\n",
    "# new_set = {10, [20, 30]}\n",
    "# print(new_set) => this will throw error as list is mutable\n",
    "\n",
    "# creating a set with list\n",
    "new_set = {10, (20, 30)}\n",
    "print(new_set)\n",
    "\n",
    "# creating a set with set inside\n",
    "# set_in_set = {10, 20, {25, 15}}\n",
    "# print(set_in_set) => this will also throw error as set is mutable and it can't act as an immutable element\n",
    "\n",
    "# creating a set of dictionary within it\n",
    "# dict_in_set = {10, 20, {'id': 1, 'name': 'Piyush'}}\n",
    "# print(dict_in_set) => also throw error as dictionary is mutable and it can't act as an immutable element"
   ]
  },
  {
   "cell_type": "markdown",
   "id": "a6acbf42-40f3-4200-8de0-72823c15bca5",
   "metadata": {},
   "source": [
    "### Accesing an element inside a Set"
   ]
  },
  {
   "cell_type": "raw",
   "id": "24c64fbc-2ee8-43f5-9245-621404415dbe",
   "metadata": {},
   "source": [
    "You cannot access individual elements of a set via indexing, as sets are unordered. However, you can loop through a set to access its elements"
   ]
  },
  {
   "cell_type": "code",
   "execution_count": 30,
   "id": "446441ca-4e56-4173-9b4f-e2f5b4a8ddbf",
   "metadata": {},
   "outputs": [
    {
     "name": "stdout",
     "output_type": "stream",
     "text": [
      "64\n",
      "10\n",
      "18\n",
      "15\n",
      "True\n",
      "False\n"
     ]
    }
   ],
   "source": [
    "my_set = {15, 64, 10, 18}\n",
    "for item in my_set:\n",
    "    print(item)\n",
    "\n",
    "# we can also use 'in' operator to find if an elements exists in a set or not\n",
    "\n",
    "print(15 in my_set) # will return True as 15 is present in there\n",
    "print(100 in my_set) # will return False as 100 isn't present in there"
   ]
  },
  {
   "cell_type": "markdown",
   "id": "6a0b0af7-5812-471f-b282-27fd02ec9186",
   "metadata": {},
   "source": [
    "### Modifying a Set"
   ]
  },
  {
   "cell_type": "raw",
   "id": "0465bcf2-5f2f-46e6-bc98-e230ecfa34d5",
   "metadata": {},
   "source": [
    "There are various methods available to add/remove elements inside a set"
   ]
  },
  {
   "cell_type": "code",
   "execution_count": 54,
   "id": "a5978c81-90ce-44e9-bd31-75d82ca8808d",
   "metadata": {},
   "outputs": [
    {
     "name": "stdout",
     "output_type": "stream",
     "text": [
      "{64, 10, 15, 18, 19, 25}\n",
      "{64, 40, 10, 15, 18, 19, 20, 25, 30}\n",
      "{64, 33, 40, 10, 15, 18, 19, 20, 22, 25, 30}\n",
      "{64, 33, 35, 40, 10, 45, 15, 18, 19, 20, 22, 25, 30}\n",
      "{64, 33, 1, 35, 2, 3, 40, 10, 45, 15, 18, 19, 20, 22, 25, 30}\n",
      "{1, 2, 3, 10, 15, 18, 19, 20, 22, 25, 30, 33, 35, 40, 45, 64, '8', '9', '7'}\n",
      "{2, 3, 10, 15, 18, 19, 20, 22, 25, 30, 33, 35, 40, 45, 64, '8', '9', '7'}\n",
      "{3, 10, 15, 18, 19, 20, 22, 25, 30, 33, 35, 40, 45, 64, '8', '9', '7'}\n",
      "{3, 10, 15, 18, 19, 20, 22, 25, 30, 33, 35, 40, 45, 64, '8', '9', '7'}\n",
      "3 {10, 15, 18, 19, 20, 22, 25, 30, 33, 35, 40, 45, 64, '8', '9', '7'}\n",
      "now my empty set is here: set()\n"
     ]
    }
   ],
   "source": [
    "#  add() => it will simply add an element to a set\n",
    "my_set = {15, 64, 10, 18}\n",
    "my_set.add(19)\n",
    "my_set.add(25)\n",
    "print(my_set)\n",
    "\n",
    "# update() => it will add multiple elements inside a set => (from another iterable)\n",
    "my_set.update([20, 30, 40])\n",
    "print(my_set)\n",
    "\n",
    "my_set.update((22, 33))\n",
    "print(my_set)\n",
    "\n",
    "my_tuple = 35, 45\n",
    "my_set.update(my_tuple)\n",
    "print(my_set)\n",
    "\n",
    "test_set = {1, 2, 3}\n",
    "my_set.update(test_set)\n",
    "print(my_set)\n",
    "\n",
    "my_string = '987'\n",
    "my_set.update(my_string)\n",
    "print(my_set)\n",
    "\n",
    "# remove => it removes an element if present inside a set => raises key error if not present'\n",
    "my_set.remove(1)\n",
    "print(my_set)\n",
    "\n",
    "# my_set.remove(100)\n",
    "# print(my_set) => throw KEYERROR as 100 is not present inside the set\n",
    "\n",
    "# discard() => it will also remove an element if present => but will not raise error if not present\n",
    "my_set.discard(2)\n",
    "print(my_set)\n",
    "\n",
    "my_set.discard(100)\n",
    "print(my_set)\n",
    "\n",
    "#  we can remove an arbitary element using pop => raise KEYERROR if set is empty\n",
    "popped_element = my_set.pop()\n",
    "print(popped_element, my_set)\n",
    "\n",
    "# if an empty set is there\n",
    "# empty_set = set()\n",
    "# empty_set.pop() => throw error as we are trying to pop an element through empty set\n",
    "\n",
    "# clear() => it will simply empty the set => will remove all elements out of set\n",
    "my_set.clear()\n",
    "print(f\"now my empty set is here: {my_set}\")"
   ]
  }
 ],
 "metadata": {
  "kernelspec": {
   "display_name": "Python 3 (ipykernel)",
   "language": "python",
   "name": "python3"
  },
  "language_info": {
   "codemirror_mode": {
    "name": "ipython",
    "version": 3
   },
   "file_extension": ".py",
   "mimetype": "text/x-python",
   "name": "python",
   "nbconvert_exporter": "python",
   "pygments_lexer": "ipython3",
   "version": "3.12.4"
  }
 },
 "nbformat": 4,
 "nbformat_minor": 5
}
