{
 "cells": [
  {
   "cell_type": "markdown",
   "id": "ae6f804b-f374-4ca6-8711-8f65f307f342",
   "metadata": {},
   "source": [
    "## Set in Python"
   ]
  },
  {
   "cell_type": "raw",
   "id": "887500b1-084f-4b6b-be88-fef50086a5da",
   "metadata": {},
   "source": [
    "A set in Python is an unordered collection of unique elements. Sets are commonly used when the existence of an item in a collection is more important than the order or frequency of items. A set automatically eliminates duplicate values and provides efficient membership tests."
   ]
  },
  {
   "cell_type": "markdown",
   "id": "b7341f64-382a-42c5-a581-8529d6915d93",
   "metadata": {},
   "source": [
    "### Characteristics of a Set"
   ]
  },
  {
   "cell_type": "raw",
   "id": "a22a32a7-62eb-497d-8f65-3aa39b6bea49",
   "metadata": {},
   "source": [
    "1.Unordered: The items in a set are not ordered, meaning that there is no indexing, slicing, or other sequence-like behavior.\n",
    "2.Unique Elements: A set cannot contain duplicate elements. If a duplicate is added, it will be ignored.\n",
    "3.Mutable: Sets are mutable, meaning you can add and remove items.\n",
    "4.No Indexing: Sets do not support indexing, slicing, or other sequence-like behavior since they are unordered.\n",
    "5.Heterogeneous: A set can contain elements of any immutable data type, including integers, strings, or tuples.\n",
    "6.Efficient Membership Tests: Sets are optimized for checking whether an item exists in them, which makes them ideal for membership tests."
   ]
  },
  {
   "cell_type": "markdown",
   "id": "a7dc392f-1da4-4328-a0a2-774eb62d838c",
   "metadata": {},
   "source": [
    "### Creating a Set"
   ]
  },
  {
   "cell_type": "code",
   "execution_count": 20,
   "id": "67e78497-47f2-4027-8310-fbe27525b96e",
   "metadata": {},
   "outputs": [
    {
     "name": "stdout",
     "output_type": "stream",
     "text": [
      "{10, 35, 20, 50} <class 'set'>\n",
      "{10, 35, 50, 20} <class 'set'>\n",
      "{'Saksham', 101, 22, 'Data Science'}\n",
      "set() <class 'set'>\n",
      "{10, (20, 30)}\n"
     ]
    }
   ],
   "source": [
    "# Creating a set with unique elements\n",
    "my_set = {10, 20, 35, 50}\n",
    "print(my_set, type(my_set))\n",
    "\n",
    "# creating a set with duplicate elements\n",
    "dupli_set = {10,50, 20,20, 35, 10, 50}\n",
    "print(dupli_set, type(dupli_set))\n",
    "\n",
    "# creating an set with mixed elements\n",
    "mixed_set = {101, \"Saksham\", \"Data Science\", 22}\n",
    "print(mixed_set)\n",
    "\n",
    "# creating an empty set\n",
    "empty_set = set()\n",
    "print(empty_set, type(empty_set))\n",
    "\n",
    "# creating a set with list\n",
    "# new_set = {10, [20, 30]}\n",
    "# print(new_set) => this will throw error as list is mutable\n",
    "\n",
    "# creating a set with list\n",
    "new_set = {10, (20, 30)}\n",
    "print(new_set)\n",
    "\n",
    "# creating a set with set inside\n",
    "# set_in_set = {10, 20, {25, 15}}\n",
    "# print(set_in_set) => this will also throw error as set is mutable and it can't act as an immutable element\n",
    "\n",
    "# creating a set of dictionary within it\n",
    "# dict_in_set = {10, 20, {'id': 1, 'name': 'Piyush'}}\n",
    "# print(dict_in_set) => also throw error as dictionary is mutable and it can't act as an immutable element"
   ]
  },
  {
   "cell_type": "markdown",
   "id": "a6acbf42-40f3-4200-8de0-72823c15bca5",
   "metadata": {},
   "source": [
    "### Accesing an element inside a Set"
   ]
  },
  {
   "cell_type": "raw",
   "id": "24c64fbc-2ee8-43f5-9245-621404415dbe",
   "metadata": {},
   "source": [
    "You cannot access individual elements of a set via indexing, as sets are unordered. However, you can loop through a set to access its elements"
   ]
  },
  {
   "cell_type": "code",
   "execution_count": 30,
   "id": "446441ca-4e56-4173-9b4f-e2f5b4a8ddbf",
   "metadata": {},
   "outputs": [
    {
     "name": "stdout",
     "output_type": "stream",
     "text": [
      "64\n",
      "10\n",
      "18\n",
      "15\n",
      "True\n",
      "False\n"
     ]
    }
   ],
   "source": [
    "my_set = {15, 64, 10, 18}\n",
    "for item in my_set:\n",
    "    print(item)\n",
    "\n",
    "# we can also use 'in' operator to find if an elements exists in a set or not\n",
    "\n",
    "print(15 in my_set) # will return True as 15 is present in there\n",
    "print(100 in my_set) # will return False as 100 isn't present in there"
   ]
  },
  {
   "cell_type": "markdown",
   "id": "6a0b0af7-5812-471f-b282-27fd02ec9186",
   "metadata": {},
   "source": [
    "### Modifying a Set"
   ]
  },
  {
   "cell_type": "raw",
   "id": "0465bcf2-5f2f-46e6-bc98-e230ecfa34d5",
   "metadata": {},
   "source": [
    "There are various methods available to add/remove elements inside a set"
   ]
  },
  {
   "cell_type": "code",
   "execution_count": 54,
   "id": "a5978c81-90ce-44e9-bd31-75d82ca8808d",
   "metadata": {},
   "outputs": [
    {
     "name": "stdout",
     "output_type": "stream",
     "text": [
      "{64, 10, 15, 18, 19, 25}\n",
      "{64, 40, 10, 15, 18, 19, 20, 25, 30}\n",
      "{64, 33, 40, 10, 15, 18, 19, 20, 22, 25, 30}\n",
      "{64, 33, 35, 40, 10, 45, 15, 18, 19, 20, 22, 25, 30}\n",
      "{64, 33, 1, 35, 2, 3, 40, 10, 45, 15, 18, 19, 20, 22, 25, 30}\n",
      "{1, 2, 3, 10, 15, 18, 19, 20, 22, 25, 30, 33, 35, 40, 45, 64, '8', '9', '7'}\n",
      "{2, 3, 10, 15, 18, 19, 20, 22, 25, 30, 33, 35, 40, 45, 64, '8', '9', '7'}\n",
      "{3, 10, 15, 18, 19, 20, 22, 25, 30, 33, 35, 40, 45, 64, '8', '9', '7'}\n",
      "{3, 10, 15, 18, 19, 20, 22, 25, 30, 33, 35, 40, 45, 64, '8', '9', '7'}\n",
      "3 {10, 15, 18, 19, 20, 22, 25, 30, 33, 35, 40, 45, 64, '8', '9', '7'}\n",
      "now my empty set is here: set()\n"
     ]
    }
   ],
   "source": [
    "#  add() => it will simply add an element to a set\n",
    "my_set = {15, 64, 10, 18}\n",
    "my_set.add(19)\n",
    "my_set.add(25)\n",
    "print(my_set)\n",
    "\n",
    "# update() => it will add multiple elements inside a set => (from another iterable)\n",
    "my_set.update([20, 30, 40])\n",
    "print(my_set)\n",
    "\n",
    "my_set.update((22, 33))\n",
    "print(my_set)\n",
    "\n",
    "my_tuple = 35, 45\n",
    "my_set.update(my_tuple)\n",
    "print(my_set)\n",
    "\n",
    "test_set = {1, 2, 3}\n",
    "my_set.update(test_set)\n",
    "print(my_set)\n",
    "\n",
    "my_string = '987'\n",
    "my_set.update(my_string)\n",
    "print(my_set)\n",
    "\n",
    "# remove => it removes an element if present inside a set => raises key error if not present'\n",
    "my_set.remove(1)\n",
    "print(my_set)\n",
    "\n",
    "# my_set.remove(100)\n",
    "# print(my_set) => throw KEYERROR as 100 is not present inside the set\n",
    "\n",
    "# discard() => it will also remove an element if present => but will not raise error if not present\n",
    "my_set.discard(2)\n",
    "print(my_set)\n",
    "\n",
    "my_set.discard(100)\n",
    "print(my_set)\n",
    "\n",
    "#  we can remove an arbitary element using pop => raise KEYERROR if set is empty\n",
    "popped_element = my_set.pop()\n",
    "print(popped_element, my_set)\n",
    "\n",
    "# if an empty set is there\n",
    "# empty_set = set()\n",
    "# empty_set.pop() => throw error as we are trying to pop an element through empty set\n",
    "\n",
    "# clear() => it will simply empty the set => will remove all elements out of set\n",
    "my_set.clear()\n",
    "print(f\"now my empty set is here: {my_set}\")"
   ]
  },
  {
   "cell_type": "markdown",
   "id": "3e4ccfac-9582-4af8-98a7-52bb2077ebcd",
   "metadata": {},
   "source": [
    "### Methods in Set"
   ]
  },
  {
   "cell_type": "raw",
   "id": "62e97874-9308-4322-9bdb-170080ae668e",
   "metadata": {},
   "source": [
    "Python provides several built-in methods for set, here are some of them given below"
   ]
  },
  {
   "cell_type": "code",
   "execution_count": 17,
   "id": "0fecc805-7f44-4ce0-88ba-fdc446f6713b",
   "metadata": {},
   "outputs": [
    {
     "name": "stdout",
     "output_type": "stream",
     "text": [
      "{50, 60, 30, (10, 20)} {50, 60, 30, (10, 20)}\n",
      "1452772819456 1452772819456 1452772961504\n",
      "unioned_set: {100, 70, (10, 20), 50, 60, 30}\n",
      "set_to_be_added: {50, 100, 70, 60} \n",
      "new_set: {50, 60, 30, (10, 20)}\n",
      "{50, 60}\n",
      "{30, (10, 20)}\n",
      "{100, 70}\n",
      "{100, 70, (10, 20), 30}\n"
     ]
    }
   ],
   "source": [
    "# copy() => it will create a shallow copy of the given set\n",
    "new_set = {50, 30, 60, (10, 20)}\n",
    "set_2 = new_set\n",
    "copied_set = new_set.copy()\n",
    "print(new_set, copied_set)\n",
    "print(id(new_set), id(set_2), id(copied_set))\n",
    "\n",
    "# union() => it will join all elements of 2 sets into 1\n",
    "to_add_set = {100, 60, 50, 70}\n",
    "union_set = to_add_set.union(new_set)\n",
    "print(f'''unioned_set: {union_set}\n",
    "set_to_be_added: {to_add_set} \n",
    "new_set: {new_set}''')\n",
    "\n",
    "# intersection() => this will only return the common elements from both the sets\n",
    "intersection_set = new_set.intersection(to_add_set)\n",
    "print(intersection_set)\n",
    "\n",
    "# difference => this will return the elements that are present in first_set but not in second set\n",
    "difference_set = new_set.difference(to_add_set)\n",
    "print(difference_set)\n",
    "\n",
    "# if you want to find out the different element in 2nd set then :\n",
    "second_difference_set = to_add_set.difference(new_set)\n",
    "print(second_difference_set)\n",
    "\n",
    "# symmetric_difference() => will return a new set with elements presents in either of the sets but should not be present in both\n",
    "symmetric_set = new_set.symmetric_difference(to_add_set)\n",
    "print(symmetric_set) # just opposite of intersection"
   ]
  },
  {
   "cell_type": "code",
   "execution_count": 25,
   "id": "f801f162-791a-48d3-aa32-a6396f3dd9a9",
   "metadata": {},
   "outputs": [
    {
     "name": "stdout",
     "output_type": "stream",
     "text": [
      "True\n",
      "False\n",
      "True\n",
      "False\n",
      "True\n"
     ]
    }
   ],
   "source": [
    "# issubset() => it will return True/False based on all elements of first set are present in second set or not\n",
    "my_set = {50, 30, 60, (10, 20)}\n",
    "small_set = {50, 30}\n",
    "false_set = {10, 20}\n",
    "is_present = small_set.issubset(my_set)\n",
    "print(is_present)\n",
    "print(false_set.issubset(my_set))\n",
    "\n",
    "# issuperset(): Returns True if all elements of the second set are in the first set.\n",
    "\n",
    "is_super_set = my_set.issuperset(small_set)\n",
    "print(is_super_set)\n",
    "\n",
    "# isdisjoint() => returns true only when both the sets have no element is common\n",
    "first_set = {15, 25, 35}\n",
    "second_set = {10, 15, 20, 30}\n",
    "third_set = {7, 13, 17, 19}\n",
    "print(first_set.isdisjoint(second_set)) # return false as 15 is common\n",
    "print(first_set.isdisjoint(third_set)) # return true as nothing is common"
   ]
  },
  {
   "cell_type": "markdown",
   "id": "70c249e5-8a45-42f3-a8cd-da2a6248c287",
   "metadata": {},
   "source": [
    "### Rules for Sets"
   ]
  },
  {
   "cell_type": "raw",
   "id": "8277d970-e68f-437b-af4b-f3a908976036",
   "metadata": {},
   "source": [
    "1.Unordered: Sets are unordered, so the order of elements is not guaranteed.\n",
    "2.Unique Elements: A set cannot contain duplicate elements. If a duplicate is added, it will be ignored.\n",
    "3.Immutable Elements: The elements of a set must be immutable types (like integers, strings, or tuples), but the set itself is mutable.\n",
    "4.No Indexing: Since sets are unordered, they do not support indexing, slicing, or other sequence-like operations.\n",
    "5.Efficient Membership Tests: Sets provide efficient membership tests, making them ideal for checking the existence of an element."
   ]
  },
  {
   "cell_type": "markdown",
   "id": "ec3e294e-c1bf-4658-b42f-6886dd897e9c",
   "metadata": {},
   "source": [
    "### Use Cases of Sets"
   ]
  },
  {
   "cell_type": "code",
   "execution_count": 28,
   "id": "846037b6-ba8a-4291-ab46-dd0afe66cc73",
   "metadata": {},
   "outputs": [
    {
     "name": "stdout",
     "output_type": "stream",
     "text": [
      "{1, 5, 10, 15, 20, 25, 30}\n",
      "[1, 5, 10, 15, 20, 25, 30]\n"
     ]
    }
   ],
   "source": [
    "# remove duplicates\n",
    "nums = [1, 5, 10, 10, 15, 15, 20, 25, 30, 15, 10]\n",
    "\n",
    "# remove the duplicates from this list\n",
    "unique_nums = set(nums)\n",
    "print(unique_nums)\n",
    "new_list = list(unique_nums)\n",
    "print(new_list)"
   ]
  },
  {
   "cell_type": "code",
   "execution_count": 31,
   "id": "0ba0add6-5a9d-4350-8f0d-41ab1dd24e5e",
   "metadata": {},
   "outputs": [
    {
     "name": "stdout",
     "output_type": "stream",
     "text": [
      "True\n",
      "False\n"
     ]
    }
   ],
   "source": [
    "# Membership test => Sets are ideal in checking if an elements exists, they are fast in checking\n",
    "fruits = {'cherry', 'apple', 'mango'}\n",
    "print('mango' in fruits)\n",
    "print('banana' in fruits)"
   ]
  },
  {
   "cell_type": "code",
   "execution_count": 38,
   "id": "a1c7f2e2-6357-4a80-95ac-c03e59efd1b4",
   "metadata": {},
   "outputs": [
    {
     "name": "stdout",
     "output_type": "stream",
     "text": [
      "{3}\n",
      "{1, 2, 3, 4, 5}\n",
      "{1, 2}\n",
      "{4, 5}\n"
     ]
    }
   ],
   "source": [
    "'''Set Operations (Mathematical Sets): Sets are commonly used for operations like union, intersection, \n",
    "and difference in various applications, such as filtering data or finding common or distinct items.'''\n",
    "\n",
    "set1 = {1, 2, 3}\n",
    "set2 = {3, 4, 5}\n",
    "\n",
    "# for common element\n",
    "print(set1 & set2) #return the common element 3\n",
    "\n",
    "# for union\n",
    "print(set1 | set2) #return the unioned set\n",
    "\n",
    "# for difference\n",
    "print(set1 - set2 ) # return the non common elements from set1 {1, 2}\n",
    "print(set2 - set1 ) # return the non common elements from set2 {4, 5}\n"
   ]
  },
  {
   "cell_type": "code",
   "execution_count": 40,
   "id": "ce21474e-65e8-47aa-b990-eb8e16e48514",
   "metadata": {},
   "outputs": [
    {
     "name": "stdout",
     "output_type": "stream",
     "text": [
      "{1001, 1002, 1003}\n"
     ]
    }
   ],
   "source": [
    "# removing redundant data => Sets are used when you only need unique elements\n",
    "# example => tracking ID, Order ID, transaction ID\n",
    "\n",
    "transactions = {1001, 1002, 1003, 1001}\n",
    "print(transactions) #will print only unique elements => {1001, 1002, 1003}"
   ]
  },
  {
   "cell_type": "markdown",
   "id": "3a6ebb72-e9ab-4d3d-bab0-6f715dfe0042",
   "metadata": {},
   "source": [
    "### Summary"
   ]
  },
  {
   "cell_type": "raw",
   "id": "02922106-ade9-41a7-8661-3da8a9ee3a22",
   "metadata": {},
   "source": [
    "1.Sets are unordered collections of unique elements.\n",
    "2.They provide methods for adding, removing, and modifying elements.\n",
    "3.Set operations like union, intersection, and difference are efficient and commonly used for data manipulation.\n",
    "4.Sets are ideal for removing duplicates, membership testing, and performing mathematical set operations."
   ]
  }
 ],
 "metadata": {
  "kernelspec": {
   "display_name": "Python 3 (ipykernel)",
   "language": "python",
   "name": "python3"
  },
  "language_info": {
   "codemirror_mode": {
    "name": "ipython",
    "version": 3
   },
   "file_extension": ".py",
   "mimetype": "text/x-python",
   "name": "python",
   "nbconvert_exporter": "python",
   "pygments_lexer": "ipython3",
   "version": "3.12.4"
  }
 },
 "nbformat": 4,
 "nbformat_minor": 5
}
