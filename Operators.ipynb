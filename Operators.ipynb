{
 "cells": [
  {
   "cell_type": "markdown",
   "id": "1f42ad77-e413-4066-92ef-e1d4e2e40b55",
   "metadata": {},
   "source": [
    "## Operators"
   ]
  },
  {
   "cell_type": "markdown",
   "id": "fa09682b-b619-4ab1-b94b-f2e7df92f9f1",
   "metadata": {},
   "source": [
    "#### Arithmetics Operators"
   ]
  },
  {
   "cell_type": "code",
   "execution_count": 1,
   "id": "4fbd2af7-f6ed-4ab1-9e9e-6587db22ed41",
   "metadata": {},
   "outputs": [
    {
     "data": {
      "text/plain": [
       "8"
      ]
     },
     "execution_count": 1,
     "metadata": {},
     "output_type": "execute_result"
    }
   ],
   "source": [
    "# Addition\n",
    "5 + 3"
   ]
  },
  {
   "cell_type": "code",
   "execution_count": 2,
   "id": "89699ae0-577b-4f0b-9a98-6401d3ffb26f",
   "metadata": {},
   "outputs": [
    {
     "data": {
      "text/plain": [
       "30"
      ]
     },
     "execution_count": 2,
     "metadata": {},
     "output_type": "execute_result"
    }
   ],
   "source": [
    "# Subtraction\n",
    "50 - 20"
   ]
  },
  {
   "cell_type": "code",
   "execution_count": 3,
   "id": "c6622d97-707d-487c-b8b0-e8fe58d5e87c",
   "metadata": {},
   "outputs": [
    {
     "data": {
      "text/plain": [
       "50"
      ]
     },
     "execution_count": 3,
     "metadata": {},
     "output_type": "execute_result"
    }
   ],
   "source": [
    "# Multiplication\n",
    "10 * 5"
   ]
  },
  {
   "cell_type": "code",
   "execution_count": 5,
   "id": "b62434e6-80b1-4c67-bb8c-34941cb17b87",
   "metadata": {},
   "outputs": [
    {
     "data": {
      "text/plain": [
       "6.666666666666667"
      ]
     },
     "execution_count": 5,
     "metadata": {},
     "output_type": "execute_result"
    }
   ],
   "source": [
    "#Division\n",
    "20 / 3"
   ]
  },
  {
   "cell_type": "code",
   "execution_count": 7,
   "id": "2051b7a8-8350-427c-9f30-7e96c4a0a5f6",
   "metadata": {},
   "outputs": [
    {
     "data": {
      "text/plain": [
       "6"
      ]
     },
     "execution_count": 7,
     "metadata": {},
     "output_type": "execute_result"
    }
   ],
   "source": [
    "# Floor Division (Quotient)\n",
    "20 // 3"
   ]
  },
  {
   "cell_type": "code",
   "execution_count": 8,
   "id": "d1f22b8c-0603-4520-a454-4e8d254523c0",
   "metadata": {},
   "outputs": [
    {
     "data": {
      "text/plain": [
       "2"
      ]
     },
     "execution_count": 8,
     "metadata": {},
     "output_type": "execute_result"
    }
   ],
   "source": [
    "# Modulus (Remainder)\n",
    "20 % 3"
   ]
  },
  {
   "cell_type": "code",
   "execution_count": 9,
   "id": "79eef307-71e0-445d-8dac-9037b674b340",
   "metadata": {},
   "outputs": [
    {
     "data": {
      "text/plain": [
       "8"
      ]
     },
     "execution_count": 9,
     "metadata": {},
     "output_type": "execute_result"
    }
   ],
   "source": [
    "# Exponentiation (Power)\n",
    "2 ** 3"
   ]
  },
  {
   "cell_type": "code",
   "execution_count": 10,
   "id": "75955f5c-278c-4b0a-832a-5c682f58bcf5",
   "metadata": {},
   "outputs": [
    {
     "data": {
      "text/plain": [
       "2500"
      ]
     },
     "execution_count": 10,
     "metadata": {},
     "output_type": "execute_result"
    }
   ],
   "source": [
    "50 ** 2"
   ]
  },
  {
   "cell_type": "markdown",
   "id": "958eb2cd-67a4-48ef-b844-25d078e76303",
   "metadata": {},
   "source": [
    "#### Comparison Operator (Relational Operator)"
   ]
  },
  {
   "cell_type": "code",
   "execution_count": 11,
   "id": "615796b9-5d1e-410b-8908-251411d8d646",
   "metadata": {},
   "outputs": [
    {
     "data": {
      "text/plain": [
       "True"
      ]
     },
     "execution_count": 11,
     "metadata": {},
     "output_type": "execute_result"
    }
   ],
   "source": [
    "# Equals To Operator ( == )\n",
    "5 == 20/4"
   ]
  },
  {
   "cell_type": "code",
   "execution_count": 12,
   "id": "b03c0624-27be-4dad-bbdb-5ce30f466b82",
   "metadata": {},
   "outputs": [
    {
     "data": {
      "text/plain": [
       "False"
      ]
     },
     "execution_count": 12,
     "metadata": {},
     "output_type": "execute_result"
    }
   ],
   "source": [
    "# Not Equals to Operator ( != )\n",
    "3 != 18/6"
   ]
  },
  {
   "cell_type": "code",
   "execution_count": 15,
   "id": "5aff1ecc-9797-438a-a66c-e58a327d09af",
   "metadata": {},
   "outputs": [
    {
     "data": {
      "text/plain": [
       "True"
      ]
     },
     "execution_count": 15,
     "metadata": {},
     "output_type": "execute_result"
    }
   ],
   "source": [
    "4 != 19/4"
   ]
  },
  {
   "cell_type": "code",
   "execution_count": 18,
   "id": "875c750c-df03-484f-b6dc-5a965beec73f",
   "metadata": {},
   "outputs": [
    {
     "data": {
      "text/plain": [
       "False"
      ]
     },
     "execution_count": 18,
     "metadata": {},
     "output_type": "execute_result"
    }
   ],
   "source": [
    " 4 != 19//4"
   ]
  },
  {
   "cell_type": "code",
   "execution_count": 19,
   "id": "c79ed371-32ab-48ce-8d5c-5464a2eb222d",
   "metadata": {},
   "outputs": [
    {
     "data": {
      "text/plain": [
       "True"
      ]
     },
     "execution_count": 19,
     "metadata": {},
     "output_type": "execute_result"
    }
   ],
   "source": [
    "# Greater Than Operator ( > )\n",
    "10 > 9"
   ]
  },
  {
   "cell_type": "code",
   "execution_count": 20,
   "id": "96dcbc5e-fd77-459e-9581-05388afc3f95",
   "metadata": {},
   "outputs": [
    {
     "data": {
      "text/plain": [
       "True"
      ]
     },
     "execution_count": 20,
     "metadata": {},
     "output_type": "execute_result"
    }
   ],
   "source": [
    "# Smaller Than Operator ( < )\n",
    "45 < 50"
   ]
  },
  {
   "cell_type": "code",
   "execution_count": 21,
   "id": "d87d00ce-6963-4e90-8b38-c37e603592b0",
   "metadata": {},
   "outputs": [
    {
     "data": {
      "text/plain": [
       "True"
      ]
     },
     "execution_count": 21,
     "metadata": {},
     "output_type": "execute_result"
    }
   ],
   "source": [
    "# Greater Than Or Equals To Operator ( >= )\n",
    "10/2 >= 4"
   ]
  },
  {
   "cell_type": "code",
   "execution_count": 25,
   "id": "aaf513bf-e092-4a83-8bcf-dac4c083e29f",
   "metadata": {},
   "outputs": [
    {
     "data": {
      "text/plain": [
       "True"
      ]
     },
     "execution_count": 25,
     "metadata": {},
     "output_type": "execute_result"
    }
   ],
   "source": [
    "# Smaller Than Or Equals To Operator ( <= )\n",
    "45/5 <= 10"
   ]
  },
  {
   "cell_type": "markdown",
   "id": "049d2598-16cf-47d4-8916-80eec2428ae6",
   "metadata": {},
   "source": [
    "#### Logical Operator"
   ]
  },
  {
   "cell_type": "code",
   "execution_count": 27,
   "id": "749112c3-fb15-4bc3-99b5-961d2e5515aa",
   "metadata": {},
   "outputs": [
    {
     "data": {
      "text/plain": [
       "True"
      ]
     },
     "execution_count": 27,
     "metadata": {},
     "output_type": "execute_result"
    }
   ],
   "source": [
    "# AND Operator => It checks if both the conditions are true, and returns true only if both the conditions are correct\n",
    "45/5 <= 10 and 10/2 >= 4"
   ]
  },
  {
   "cell_type": "code",
   "execution_count": 28,
   "id": "92bbb13d-60f2-4479-983c-33cee21da20d",
   "metadata": {},
   "outputs": [
    {
     "data": {
      "text/plain": [
       "False"
      ]
     },
     "execution_count": 28,
     "metadata": {},
     "output_type": "execute_result"
    }
   ],
   "source": [
    "45/9 <= 10 and 10/2 >= 10"
   ]
  },
  {
   "cell_type": "code",
   "execution_count": 33,
   "id": "06f5056e-7612-4177-a55c-6cfbaf75c89c",
   "metadata": {},
   "outputs": [
    {
     "data": {
      "text/plain": [
       "True"
      ]
     },
     "execution_count": 33,
     "metadata": {},
     "output_type": "execute_result"
    }
   ],
   "source": [
    "# OR Operator\n",
    "# Returns true bcz both conditions are correct here \n",
    "45/5 <= 10 or 10/2 >= 4"
   ]
  },
  {
   "cell_type": "code",
   "execution_count": 34,
   "id": "d097b22c-8521-402a-be6e-edf525b0df55",
   "metadata": {},
   "outputs": [
    {
     "data": {
      "text/plain": [
       "True"
      ]
     },
     "execution_count": 34,
     "metadata": {},
     "output_type": "execute_result"
    }
   ],
   "source": [
    "# Returns true bcz one of the conditions are correct here \n",
    "45/9 <= 10 or 10/2 >= 10"
   ]
  },
  {
   "cell_type": "code",
   "execution_count": 35,
   "id": "501a5ce6-8b1a-4f78-ab8a-a91fb9cf4205",
   "metadata": {},
   "outputs": [
    {
     "data": {
      "text/plain": [
       "False"
      ]
     },
     "execution_count": 35,
     "metadata": {},
     "output_type": "execute_result"
    }
   ],
   "source": [
    "# Returns False bcz both conditions are incorrect here \n",
    "20 > 67 or 100 < 50"
   ]
  },
  {
   "cell_type": "code",
   "execution_count": 37,
   "id": "757cb986-68f7-44ef-8f95-a83ae6714827",
   "metadata": {},
   "outputs": [
    {
     "data": {
      "text/plain": [
       "False"
      ]
     },
     "execution_count": 37,
     "metadata": {},
     "output_type": "execute_result"
    }
   ],
   "source": [
    "# NOT Operator\n",
    "not 20 == 200/10"
   ]
  },
  {
   "cell_type": "code",
   "execution_count": 38,
   "id": "ff43a211-6d64-4a25-a14b-18e615170186",
   "metadata": {},
   "outputs": [
    {
     "data": {
      "text/plain": [
       "True"
      ]
     },
     "execution_count": 38,
     "metadata": {},
     "output_type": "execute_result"
    }
   ],
   "source": [
    "not 205 == 200/10"
   ]
  },
  {
   "cell_type": "markdown",
   "id": "731cac3b-6036-477f-a0b3-217e24dd030e",
   "metadata": {},
   "source": [
    "#### Membership Operators"
   ]
  },
  {
   "cell_type": "code",
   "execution_count": 39,
   "id": "a84a9db5-4f1a-4baf-b149-b01e5ac80cf6",
   "metadata": {},
   "outputs": [
    {
     "data": {
      "text/plain": [
       "True"
      ]
     },
     "execution_count": 39,
     "metadata": {},
     "output_type": "execute_result"
    }
   ],
   "source": [
    "# IN Operator\n",
    "a = [10, 20, 30]\n",
    "10 in a"
   ]
  },
  {
   "cell_type": "code",
   "execution_count": 40,
   "id": "c2f18d18-8ad5-4ea9-a795-1e5dc8284bdd",
   "metadata": {},
   "outputs": [
    {
     "data": {
      "text/plain": [
       "False"
      ]
     },
     "execution_count": 40,
     "metadata": {},
     "output_type": "execute_result"
    }
   ],
   "source": [
    "a = [10, 20, 30]\n",
    "100 in a"
   ]
  },
  {
   "cell_type": "code",
   "execution_count": 44,
   "id": "7b86efb0-59fc-4e74-8d8c-4215ce9da03e",
   "metadata": {},
   "outputs": [
    {
     "data": {
      "text/plain": [
       "False"
      ]
     },
     "execution_count": 44,
     "metadata": {},
     "output_type": "execute_result"
    }
   ],
   "source": [
    "# Not IN Operator\n",
    "countries = ['India', 'USA', 'France']\n",
    "'France' not in countries"
   ]
  },
  {
   "cell_type": "code",
   "execution_count": 43,
   "id": "95c31f65-fa39-46b6-8136-bb6976b02d79",
   "metadata": {},
   "outputs": [
    {
     "data": {
      "text/plain": [
       "True"
      ]
     },
     "execution_count": 43,
     "metadata": {},
     "output_type": "execute_result"
    }
   ],
   "source": [
    "countries = ['India', 'USA', 'France']\n",
    "'Italy' not in countries"
   ]
  },
  {
   "cell_type": "markdown",
   "id": "9285ed3b-2acd-48e3-8c67-25ee0a9512ca",
   "metadata": {},
   "source": [
    "#### Identity Operators"
   ]
  },
  {
   "cell_type": "code",
   "execution_count": 46,
   "id": "aee9f376-f999-4871-bd5f-43d8c9ea77da",
   "metadata": {},
   "outputs": [
    {
     "data": {
      "text/plain": [
       "True"
      ]
     },
     "execution_count": 46,
     "metadata": {},
     "output_type": "execute_result"
    }
   ],
   "source": [
    "# is operator => Returns true if both objects are identical\n",
    "x = 5\n",
    "y = 5\n",
    "x is y"
   ]
  },
  {
   "cell_type": "code",
   "execution_count": 48,
   "id": "6d99ed30-6732-4aba-9adc-988f6da4cceb",
   "metadata": {},
   "outputs": [
    {
     "data": {
      "text/plain": [
       "False"
      ]
     },
     "execution_count": 48,
     "metadata": {},
     "output_type": "execute_result"
    }
   ],
   "source": [
    "# is not operator => Returns false if both objects are identical\n",
    "x = 5\n",
    "y = 5\n",
    "x is not y"
   ]
  }
 ],
 "metadata": {
  "kernelspec": {
   "display_name": "Python 3 (ipykernel)",
   "language": "python",
   "name": "python3"
  },
  "language_info": {
   "codemirror_mode": {
    "name": "ipython",
    "version": 3
   },
   "file_extension": ".py",
   "mimetype": "text/x-python",
   "name": "python",
   "nbconvert_exporter": "python",
   "pygments_lexer": "ipython3",
   "version": "3.12.4"
  }
 },
 "nbformat": 4,
 "nbformat_minor": 5
}
