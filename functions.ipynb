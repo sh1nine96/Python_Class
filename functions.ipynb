{
 "cells": [
  {
   "cell_type": "markdown",
   "id": "9d219e25-75fb-410d-9760-8661284ec800",
   "metadata": {},
   "source": [
    "# Functions in Python"
   ]
  },
  {
   "cell_type": "raw",
   "id": "aefe1e25-da70-4012-bcc7-3a35b4d72b89",
   "metadata": {},
   "source": [
    "Python includes many built-in functions. These functions perform a predefined task and can be called upon in any program, as per requirement. However, if you don't find a suitable built-in function to serve your purpose, you can define one. We will now see how to define and use a function in a Python program."
   ]
  },
  {
   "cell_type": "markdown",
   "id": "76f70aa2-2922-4471-be86-0d5617feffde",
   "metadata": {},
   "source": [
    "## Defining a function"
   ]
  },
  {
   "cell_type": "raw",
   "id": "9e73fe1d-24e2-423c-b210-12280ac97d1e",
   "metadata": {},
   "source": [
    "function is a reusable block of programming statements designed to perform a certain task. To define a function, Python provides the \"def\" keyword. The following is the syntax for defining a function.\n",
    "SYNTAX\n",
    "=> def function_name(parameters):\n",
    "    \"\"\"docstring\"\"\" statement1 statement2 ... ... \n",
    "    return [expr]\n",
    "\n",
    "The keyword def is followed by a suitable identifier as the name of the function and parentheses. One or more parameters may be optionally mentioned inside parentheses. The: symbol after parentheses starts an indented block.\n",
    "\n",
    "The first statement in the function body can be a string, which is called the docstring. It explains the functionality of the function/class. The docstring is not mandatory.\n",
    "\n",
    "The function body contains one or more statements that perform some actions. It can also use the pass keyword.\n",
    "\n",
    "Optionally, the last statement in the function block is the return statement. It sends an execution control back to the calling environment. If an expression is added in front of return, its value is also returned to the calling code."
   ]
  },
  {
   "cell_type": "code",
   "execution_count": 16,
   "id": "16b352a1-2c36-4b07-8d7d-f2b088433ad4",
   "metadata": {},
   "outputs": [
    {
     "name": "stdout",
     "output_type": "stream",
     "text": [
      "35\n",
      "320\n",
      "my sum is: 270\n",
      "None\n",
      "my sum is: 90\n"
     ]
    }
   ],
   "source": [
    "def sum1():\n",
    "    print(10+25)\n",
    "\n",
    "sum1()\n",
    "\n",
    "# 100 & 220\n",
    "def sum2():\n",
    "    print(100+220)\n",
    "sum2()  \n",
    "\n",
    "# 200 & 70\n",
    "def sum(a, b):\n",
    "    result = a + b\n",
    "    print(f\"my sum is: {result}\")\n",
    "\n",
    "print(sum(200, 70))\n",
    "\n",
    "def addition(a, b):\n",
    "    result = a + b\n",
    "    return f\"my sum is: {result}\"\n",
    "\n",
    "print(addition(50, 40))"
   ]
  },
  {
   "cell_type": "code",
   "execution_count": 28,
   "id": "c2b2163f-fb36-48ab-8c68-8108efa5fe4e",
   "metadata": {},
   "outputs": [
    {
     "name": "stdout",
     "output_type": "stream",
     "text": [
      "Hello students!\n",
      "Hello students!\n",
      "None\n",
      "Help on function greet in module __main__:\n",
      "\n",
      "greet()\n",
      "    This function displays 'Hello World!'\n",
      "\n"
     ]
    }
   ],
   "source": [
    "def greet():\n",
    "    \"\"\"This function displays 'Hello World!'\"\"\"\n",
    "    print('Hello students!')\n",
    "\n",
    "greet()\n",
    "    # By default, all the functions return None if the return statement does not exist.\n",
    "\n",
    "value = greet()\n",
    "print(value)\n",
    "\n",
    "# help statement\n",
    "help(greet)\n",
    "\n",
    "# help(len)\n",
    "# help(print)"
   ]
  },
  {
   "cell_type": "markdown",
   "id": "93aa0a28-91db-4cb4-930a-79957531db02",
   "metadata": {},
   "source": [
    "## Function Parameters"
   ]
  },
  {
   "cell_type": "raw",
   "id": "bf42173d-2a1d-4414-9f5d-e2a1c8584cc0",
   "metadata": {},
   "source": [
    "It is possible to define a function to receive one or more parameters (also called arguments) and use them for processing inside the function block. Parameters/arguments may be given suitable formal names. The greet() function is now defined to receive a string parameter called name. Inside the function, the print() statement is modified to display the greeting message addressed to the received parameter."
   ]
  },
  {
   "cell_type": "code",
   "execution_count": 32,
   "id": "ca41b4a0-97f6-45c1-b0b0-d03a846ca3b7",
   "metadata": {},
   "outputs": [
    {
     "name": "stdout",
     "output_type": "stream",
     "text": [
      "Hello, Aditya\n",
      "Hello, 123\n"
     ]
    }
   ],
   "source": [
    "def greet(name):  \n",
    "    print (f\"Hello, {name}\")\n",
    "\n",
    "greet('Aditya') # calling function with argument\n",
    "greet(123)"
   ]
  },
  {
   "cell_type": "code",
   "execution_count": 52,
   "id": "5968a032-0cce-4d39-bd0a-c819b1dd5b70",
   "metadata": {},
   "outputs": [
    {
     "name": "stdout",
     "output_type": "stream",
     "text": [
      "23 X 1 = 23\n",
      "23 X 2 = 46\n",
      "23 X 3 = 69\n",
      "23 X 4 = 92\n",
      "23 X 5 = 115\n",
      "23 X 6 = 138\n",
      "23 X 7 = 161\n",
      "23 X 8 = 184\n",
      "23 X 9 = 207\n",
      "23 X 10 = 230\n"
     ]
    },
    {
     "data": {
      "text/plain": [
       "'hello Aditya, Piyush, Saksham & Ajay'"
      ]
     },
     "execution_count": 52,
     "metadata": {},
     "output_type": "execute_result"
    }
   ],
   "source": [
    "# define a function that will write the table of 7\n",
    "def table7():\n",
    "    for item in range(1, 11):\n",
    "        print(f\"7 X {item} = {7*item}\")\n",
    "# table7() \n",
    "\n",
    "def table_printer(n):\n",
    "    for item in range(1, 11):\n",
    "        print(f\"{n} X {item} = {n*item}\")\n",
    "table_printer(23)  \n",
    "\n",
    "# Function with multiple parameters\n",
    "\n",
    "# Hello student_name, You are 23 years old\n",
    "\n",
    "def student_greet(name, age):\n",
    "    return f\"Hello {name}, you are {age} years old\"\n",
    "student_greet(\"Aditya\", 22)   \n",
    "\n",
    "# A function in Python can have an unknown number of arguments by putting * before the parameter \n",
    "# if you don't know the number of arguments the user is going to pass.\n",
    "\n",
    "def greet_many(*names):\n",
    "    return f\"hello {names[0]}, {names[1]}, {names[2]} & {names[3]}\"\n",
    "greet_many(\"Aditya\", \"Piyush\", \"Saksham\", \"Ajay\")    "
   ]
  },
  {
   "cell_type": "code",
   "execution_count": 55,
   "id": "90108ad4-765c-48a1-9168-13cb1c1dcf85",
   "metadata": {},
   "outputs": [
    {
     "name": "stdout",
     "output_type": "stream",
     "text": [
      "Ajay\n",
      "Sanjay\n",
      "Ajay\n",
      "Sanjay\n",
      "Piyush\n",
      "Binod\n",
      "Manish\n",
      "Suresh\n"
     ]
    }
   ],
   "source": [
    "# The following function works with any number of arguments.\n",
    "def greet(*names):\n",
    "    item = 0\n",
    "    while len(names) > item:\n",
    "        print(names[item])\n",
    "        item = item + 1\n",
    "greet(\"Ajay\", \"Sanjay\")\n",
    "greet(\"Ajay\", \"Sanjay\", \"Piyush\", \"Binod\", \"Manish\", \"Suresh\")"
   ]
  },
  {
   "cell_type": "code",
   "execution_count": 63,
   "id": "f1c8bc95-7096-4e35-a12b-9928ef2feba6",
   "metadata": {},
   "outputs": [
    {
     "data": {
      "text/plain": [
       "'Total marks: 350'"
      ]
     },
     "execution_count": 63,
     "metadata": {},
     "output_type": "execute_result"
    }
   ],
   "source": [
    "# functions with keyword arguements => kwargs\n",
    "def greet(**names):\n",
    "    return f\"hello {names['firstname']} {names['lastname']}, You are {names['age']} years old\"\n",
    "greet(firstname=\"Aditya\", lastname=\"Soni\", age=23)    \n",
    "\n",
    "def addition(**kwargs):\n",
    "    total = kwargs['science']+  kwargs['maths']+ kwargs['english'] + kwargs['hindi']\n",
    "    return f\"Total marks: {total}\" \n",
    "addition(science=80, maths=90, english=85, hindi= 95)  \n",
    "# addition(science=80) # will raise key error if values are not provided"
   ]
  },
  {
   "cell_type": "code",
   "execution_count": 66,
   "id": "7eae738c-21f1-4cdf-b24b-ac9054dbe62c",
   "metadata": {},
   "outputs": [
    {
     "data": {
      "text/plain": [
       "'India is a beautiful country'"
      ]
     },
     "execution_count": 66,
     "metadata": {},
     "output_type": "execute_result"
    }
   ],
   "source": [
    "# function with Default value\n",
    "def greet_country(country=\"India\"):\n",
    "    return f\"{country} is a beautiful country\"\n",
    "\n",
    "greet_country(\"USA\")\n",
    "greet_country()\n",
    "    "
   ]
  }
 ],
 "metadata": {
  "kernelspec": {
   "display_name": "Python 3 (ipykernel)",
   "language": "python",
   "name": "python3"
  },
  "language_info": {
   "codemirror_mode": {
    "name": "ipython",
    "version": 3
   },
   "file_extension": ".py",
   "mimetype": "text/x-python",
   "name": "python",
   "nbconvert_exporter": "python",
   "pygments_lexer": "ipython3",
   "version": "3.12.4"
  }
 },
 "nbformat": 4,
 "nbformat_minor": 5
}
